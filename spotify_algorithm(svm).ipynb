{
  "nbformat": 4,
  "nbformat_minor": 0,
  "metadata": {
    "colab": {
      "provenance": [],
      "toc_visible": true,
      "authorship_tag": "ABX9TyMRGqA4iTlMBROJs8pm9b3L"
    },
    "kernelspec": {
      "name": "python3",
      "display_name": "Python 3"
    },
    "language_info": {
      "name": "python"
    }
  },
  "cells": [
    {
      "cell_type": "code",
      "source": [
        "import pandas as pd\n",
        "import matplotlib as plt\n",
        "from matplotlib import style"
      ],
      "metadata": {
        "id": "TwynKPc65F22"
      },
      "execution_count": 1,
      "outputs": []
    },
    {
      "cell_type": "markdown",
      "source": [
        "https://developer.spotify.com/documentation/web-api"
      ],
      "metadata": {
        "id": "6cfXrdLq5iLg"
      }
    },
    {
      "cell_type": "markdown",
      "source": [
        "# analisando dados"
      ],
      "metadata": {
        "id": "PPi4_ugYCsPv"
      }
    },
    {
      "cell_type": "code",
      "execution_count": 23,
      "metadata": {
        "colab": {
          "base_uri": "https://localhost:8080/",
          "height": 206
        },
        "id": "Hml853k34gm6",
        "outputId": "b8a2a80a-f992-49ec-eaa3-dff366671a8b"
      },
      "outputs": [
        {
          "output_type": "execute_result",
          "data": {
            "text/plain": [
              "   id  acousticness  danceability  duration_ms  energy  instrumentalness  key  \\\n",
              "0   0        0.0102         0.833       204600   0.434          0.021900    2   \n",
              "1   1        0.1990         0.743       326933   0.359          0.006110    1   \n",
              "2   2        0.0344         0.838       185707   0.412          0.000234    2   \n",
              "3   3        0.6040         0.494       199413   0.338          0.510000    5   \n",
              "4   4        0.1800         0.678       392893   0.561          0.512000    5   \n",
              "\n",
              "   liveness  loudness  mode  speechiness    tempo  time_signature  valence  \\\n",
              "0    0.1650    -8.795     1       0.4310  150.062             4.0    0.286   \n",
              "1    0.1370   -10.401     1       0.0794  160.083             4.0    0.588   \n",
              "2    0.1590    -7.148     1       0.2890   75.044             4.0    0.173   \n",
              "3    0.0922   -15.236     1       0.0261   86.468             4.0    0.230   \n",
              "4    0.4390   -11.648     0       0.0694  174.004             4.0    0.904   \n",
              "\n",
              "   target      song_title            artist  \n",
              "0       1        Mask Off            Future  \n",
              "1       1         Redbone  Childish Gambino  \n",
              "2       1    Xanny Family            Future  \n",
              "3       1  Master Of None       Beach House  \n",
              "4       1  Parallel Lines       Junior Boys  "
            ],
            "text/html": [
              "\n",
              "  <div id=\"df-8d509961-dc9f-4179-8c26-2a761de82137\" class=\"colab-df-container\">\n",
              "    <div>\n",
              "<style scoped>\n",
              "    .dataframe tbody tr th:only-of-type {\n",
              "        vertical-align: middle;\n",
              "    }\n",
              "\n",
              "    .dataframe tbody tr th {\n",
              "        vertical-align: top;\n",
              "    }\n",
              "\n",
              "    .dataframe thead th {\n",
              "        text-align: right;\n",
              "    }\n",
              "</style>\n",
              "<table border=\"1\" class=\"dataframe\">\n",
              "  <thead>\n",
              "    <tr style=\"text-align: right;\">\n",
              "      <th></th>\n",
              "      <th>id</th>\n",
              "      <th>acousticness</th>\n",
              "      <th>danceability</th>\n",
              "      <th>duration_ms</th>\n",
              "      <th>energy</th>\n",
              "      <th>instrumentalness</th>\n",
              "      <th>key</th>\n",
              "      <th>liveness</th>\n",
              "      <th>loudness</th>\n",
              "      <th>mode</th>\n",
              "      <th>speechiness</th>\n",
              "      <th>tempo</th>\n",
              "      <th>time_signature</th>\n",
              "      <th>valence</th>\n",
              "      <th>target</th>\n",
              "      <th>song_title</th>\n",
              "      <th>artist</th>\n",
              "    </tr>\n",
              "  </thead>\n",
              "  <tbody>\n",
              "    <tr>\n",
              "      <th>0</th>\n",
              "      <td>0</td>\n",
              "      <td>0.0102</td>\n",
              "      <td>0.833</td>\n",
              "      <td>204600</td>\n",
              "      <td>0.434</td>\n",
              "      <td>0.021900</td>\n",
              "      <td>2</td>\n",
              "      <td>0.1650</td>\n",
              "      <td>-8.795</td>\n",
              "      <td>1</td>\n",
              "      <td>0.4310</td>\n",
              "      <td>150.062</td>\n",
              "      <td>4.0</td>\n",
              "      <td>0.286</td>\n",
              "      <td>1</td>\n",
              "      <td>Mask Off</td>\n",
              "      <td>Future</td>\n",
              "    </tr>\n",
              "    <tr>\n",
              "      <th>1</th>\n",
              "      <td>1</td>\n",
              "      <td>0.1990</td>\n",
              "      <td>0.743</td>\n",
              "      <td>326933</td>\n",
              "      <td>0.359</td>\n",
              "      <td>0.006110</td>\n",
              "      <td>1</td>\n",
              "      <td>0.1370</td>\n",
              "      <td>-10.401</td>\n",
              "      <td>1</td>\n",
              "      <td>0.0794</td>\n",
              "      <td>160.083</td>\n",
              "      <td>4.0</td>\n",
              "      <td>0.588</td>\n",
              "      <td>1</td>\n",
              "      <td>Redbone</td>\n",
              "      <td>Childish Gambino</td>\n",
              "    </tr>\n",
              "    <tr>\n",
              "      <th>2</th>\n",
              "      <td>2</td>\n",
              "      <td>0.0344</td>\n",
              "      <td>0.838</td>\n",
              "      <td>185707</td>\n",
              "      <td>0.412</td>\n",
              "      <td>0.000234</td>\n",
              "      <td>2</td>\n",
              "      <td>0.1590</td>\n",
              "      <td>-7.148</td>\n",
              "      <td>1</td>\n",
              "      <td>0.2890</td>\n",
              "      <td>75.044</td>\n",
              "      <td>4.0</td>\n",
              "      <td>0.173</td>\n",
              "      <td>1</td>\n",
              "      <td>Xanny Family</td>\n",
              "      <td>Future</td>\n",
              "    </tr>\n",
              "    <tr>\n",
              "      <th>3</th>\n",
              "      <td>3</td>\n",
              "      <td>0.6040</td>\n",
              "      <td>0.494</td>\n",
              "      <td>199413</td>\n",
              "      <td>0.338</td>\n",
              "      <td>0.510000</td>\n",
              "      <td>5</td>\n",
              "      <td>0.0922</td>\n",
              "      <td>-15.236</td>\n",
              "      <td>1</td>\n",
              "      <td>0.0261</td>\n",
              "      <td>86.468</td>\n",
              "      <td>4.0</td>\n",
              "      <td>0.230</td>\n",
              "      <td>1</td>\n",
              "      <td>Master Of None</td>\n",
              "      <td>Beach House</td>\n",
              "    </tr>\n",
              "    <tr>\n",
              "      <th>4</th>\n",
              "      <td>4</td>\n",
              "      <td>0.1800</td>\n",
              "      <td>0.678</td>\n",
              "      <td>392893</td>\n",
              "      <td>0.561</td>\n",
              "      <td>0.512000</td>\n",
              "      <td>5</td>\n",
              "      <td>0.4390</td>\n",
              "      <td>-11.648</td>\n",
              "      <td>0</td>\n",
              "      <td>0.0694</td>\n",
              "      <td>174.004</td>\n",
              "      <td>4.0</td>\n",
              "      <td>0.904</td>\n",
              "      <td>1</td>\n",
              "      <td>Parallel Lines</td>\n",
              "      <td>Junior Boys</td>\n",
              "    </tr>\n",
              "  </tbody>\n",
              "</table>\n",
              "</div>\n",
              "    <div class=\"colab-df-buttons\">\n",
              "\n",
              "  <div class=\"colab-df-container\">\n",
              "    <button class=\"colab-df-convert\" onclick=\"convertToInteractive('df-8d509961-dc9f-4179-8c26-2a761de82137')\"\n",
              "            title=\"Convert this dataframe to an interactive table.\"\n",
              "            style=\"display:none;\">\n",
              "\n",
              "  <svg xmlns=\"http://www.w3.org/2000/svg\" height=\"24px\" viewBox=\"0 -960 960 960\">\n",
              "    <path d=\"M120-120v-720h720v720H120Zm60-500h600v-160H180v160Zm220 220h160v-160H400v160Zm0 220h160v-160H400v160ZM180-400h160v-160H180v160Zm440 0h160v-160H620v160ZM180-180h160v-160H180v160Zm440 0h160v-160H620v160Z\"/>\n",
              "  </svg>\n",
              "    </button>\n",
              "\n",
              "  <style>\n",
              "    .colab-df-container {\n",
              "      display:flex;\n",
              "      gap: 12px;\n",
              "    }\n",
              "\n",
              "    .colab-df-convert {\n",
              "      background-color: #E8F0FE;\n",
              "      border: none;\n",
              "      border-radius: 50%;\n",
              "      cursor: pointer;\n",
              "      display: none;\n",
              "      fill: #1967D2;\n",
              "      height: 32px;\n",
              "      padding: 0 0 0 0;\n",
              "      width: 32px;\n",
              "    }\n",
              "\n",
              "    .colab-df-convert:hover {\n",
              "      background-color: #E2EBFA;\n",
              "      box-shadow: 0px 1px 2px rgba(60, 64, 67, 0.3), 0px 1px 3px 1px rgba(60, 64, 67, 0.15);\n",
              "      fill: #174EA6;\n",
              "    }\n",
              "\n",
              "    .colab-df-buttons div {\n",
              "      margin-bottom: 4px;\n",
              "    }\n",
              "\n",
              "    [theme=dark] .colab-df-convert {\n",
              "      background-color: #3B4455;\n",
              "      fill: #D2E3FC;\n",
              "    }\n",
              "\n",
              "    [theme=dark] .colab-df-convert:hover {\n",
              "      background-color: #434B5C;\n",
              "      box-shadow: 0px 1px 3px 1px rgba(0, 0, 0, 0.15);\n",
              "      filter: drop-shadow(0px 1px 2px rgba(0, 0, 0, 0.3));\n",
              "      fill: #FFFFFF;\n",
              "    }\n",
              "  </style>\n",
              "\n",
              "    <script>\n",
              "      const buttonEl =\n",
              "        document.querySelector('#df-8d509961-dc9f-4179-8c26-2a761de82137 button.colab-df-convert');\n",
              "      buttonEl.style.display =\n",
              "        google.colab.kernel.accessAllowed ? 'block' : 'none';\n",
              "\n",
              "      async function convertToInteractive(key) {\n",
              "        const element = document.querySelector('#df-8d509961-dc9f-4179-8c26-2a761de82137');\n",
              "        const dataTable =\n",
              "          await google.colab.kernel.invokeFunction('convertToInteractive',\n",
              "                                                    [key], {});\n",
              "        if (!dataTable) return;\n",
              "\n",
              "        const docLinkHtml = 'Like what you see? Visit the ' +\n",
              "          '<a target=\"_blank\" href=https://colab.research.google.com/notebooks/data_table.ipynb>data table notebook</a>'\n",
              "          + ' to learn more about interactive tables.';\n",
              "        element.innerHTML = '';\n",
              "        dataTable['output_type'] = 'display_data';\n",
              "        await google.colab.output.renderOutput(dataTable, element);\n",
              "        const docLink = document.createElement('div');\n",
              "        docLink.innerHTML = docLinkHtml;\n",
              "        element.appendChild(docLink);\n",
              "      }\n",
              "    </script>\n",
              "  </div>\n",
              "\n",
              "\n",
              "<div id=\"df-19ac3e81-6199-4397-8d3e-9e3b40ab7b99\">\n",
              "  <button class=\"colab-df-quickchart\" onclick=\"quickchart('df-19ac3e81-6199-4397-8d3e-9e3b40ab7b99')\"\n",
              "            title=\"Suggest charts\"\n",
              "            style=\"display:none;\">\n",
              "\n",
              "<svg xmlns=\"http://www.w3.org/2000/svg\" height=\"24px\"viewBox=\"0 0 24 24\"\n",
              "     width=\"24px\">\n",
              "    <g>\n",
              "        <path d=\"M19 3H5c-1.1 0-2 .9-2 2v14c0 1.1.9 2 2 2h14c1.1 0 2-.9 2-2V5c0-1.1-.9-2-2-2zM9 17H7v-7h2v7zm4 0h-2V7h2v10zm4 0h-2v-4h2v4z\"/>\n",
              "    </g>\n",
              "</svg>\n",
              "  </button>\n",
              "\n",
              "<style>\n",
              "  .colab-df-quickchart {\n",
              "      --bg-color: #E8F0FE;\n",
              "      --fill-color: #1967D2;\n",
              "      --hover-bg-color: #E2EBFA;\n",
              "      --hover-fill-color: #174EA6;\n",
              "      --disabled-fill-color: #AAA;\n",
              "      --disabled-bg-color: #DDD;\n",
              "  }\n",
              "\n",
              "  [theme=dark] .colab-df-quickchart {\n",
              "      --bg-color: #3B4455;\n",
              "      --fill-color: #D2E3FC;\n",
              "      --hover-bg-color: #434B5C;\n",
              "      --hover-fill-color: #FFFFFF;\n",
              "      --disabled-bg-color: #3B4455;\n",
              "      --disabled-fill-color: #666;\n",
              "  }\n",
              "\n",
              "  .colab-df-quickchart {\n",
              "    background-color: var(--bg-color);\n",
              "    border: none;\n",
              "    border-radius: 50%;\n",
              "    cursor: pointer;\n",
              "    display: none;\n",
              "    fill: var(--fill-color);\n",
              "    height: 32px;\n",
              "    padding: 0;\n",
              "    width: 32px;\n",
              "  }\n",
              "\n",
              "  .colab-df-quickchart:hover {\n",
              "    background-color: var(--hover-bg-color);\n",
              "    box-shadow: 0 1px 2px rgba(60, 64, 67, 0.3), 0 1px 3px 1px rgba(60, 64, 67, 0.15);\n",
              "    fill: var(--button-hover-fill-color);\n",
              "  }\n",
              "\n",
              "  .colab-df-quickchart-complete:disabled,\n",
              "  .colab-df-quickchart-complete:disabled:hover {\n",
              "    background-color: var(--disabled-bg-color);\n",
              "    fill: var(--disabled-fill-color);\n",
              "    box-shadow: none;\n",
              "  }\n",
              "\n",
              "  .colab-df-spinner {\n",
              "    border: 2px solid var(--fill-color);\n",
              "    border-color: transparent;\n",
              "    border-bottom-color: var(--fill-color);\n",
              "    animation:\n",
              "      spin 1s steps(1) infinite;\n",
              "  }\n",
              "\n",
              "  @keyframes spin {\n",
              "    0% {\n",
              "      border-color: transparent;\n",
              "      border-bottom-color: var(--fill-color);\n",
              "      border-left-color: var(--fill-color);\n",
              "    }\n",
              "    20% {\n",
              "      border-color: transparent;\n",
              "      border-left-color: var(--fill-color);\n",
              "      border-top-color: var(--fill-color);\n",
              "    }\n",
              "    30% {\n",
              "      border-color: transparent;\n",
              "      border-left-color: var(--fill-color);\n",
              "      border-top-color: var(--fill-color);\n",
              "      border-right-color: var(--fill-color);\n",
              "    }\n",
              "    40% {\n",
              "      border-color: transparent;\n",
              "      border-right-color: var(--fill-color);\n",
              "      border-top-color: var(--fill-color);\n",
              "    }\n",
              "    60% {\n",
              "      border-color: transparent;\n",
              "      border-right-color: var(--fill-color);\n",
              "    }\n",
              "    80% {\n",
              "      border-color: transparent;\n",
              "      border-right-color: var(--fill-color);\n",
              "      border-bottom-color: var(--fill-color);\n",
              "    }\n",
              "    90% {\n",
              "      border-color: transparent;\n",
              "      border-bottom-color: var(--fill-color);\n",
              "    }\n",
              "  }\n",
              "</style>\n",
              "\n",
              "  <script>\n",
              "    async function quickchart(key) {\n",
              "      const quickchartButtonEl =\n",
              "        document.querySelector('#' + key + ' button');\n",
              "      quickchartButtonEl.disabled = true;  // To prevent multiple clicks.\n",
              "      quickchartButtonEl.classList.add('colab-df-spinner');\n",
              "      try {\n",
              "        const charts = await google.colab.kernel.invokeFunction(\n",
              "            'suggestCharts', [key], {});\n",
              "      } catch (error) {\n",
              "        console.error('Error during call to suggestCharts:', error);\n",
              "      }\n",
              "      quickchartButtonEl.classList.remove('colab-df-spinner');\n",
              "      quickchartButtonEl.classList.add('colab-df-quickchart-complete');\n",
              "    }\n",
              "    (() => {\n",
              "      let quickchartButtonEl =\n",
              "        document.querySelector('#df-19ac3e81-6199-4397-8d3e-9e3b40ab7b99 button');\n",
              "      quickchartButtonEl.style.display =\n",
              "        google.colab.kernel.accessAllowed ? 'block' : 'none';\n",
              "    })();\n",
              "  </script>\n",
              "</div>\n",
              "\n",
              "    </div>\n",
              "  </div>\n"
            ],
            "application/vnd.google.colaboratory.intrinsic+json": {
              "type": "dataframe",
              "variable_name": "dataset",
              "summary": "{\n  \"name\": \"dataset\",\n  \"rows\": 2017,\n  \"fields\": [\n    {\n      \"column\": \"id\",\n      \"properties\": {\n        \"dtype\": \"number\",\n        \"std\": 582,\n        \"min\": 0,\n        \"max\": 2016,\n        \"num_unique_values\": 2017,\n        \"samples\": [\n          1555,\n          526,\n          393\n        ],\n        \"semantic_type\": \"\",\n        \"description\": \"\"\n      }\n    },\n    {\n      \"column\": \"acousticness\",\n      \"properties\": {\n        \"dtype\": \"number\",\n        \"std\": 0.25998925978484,\n        \"min\": 2.84e-06,\n        \"max\": 0.995,\n        \"num_unique_values\": 1394,\n        \"samples\": [\n          0.27,\n          0.00461,\n          0.0839\n        ],\n        \"semantic_type\": \"\",\n        \"description\": \"\"\n      }\n    },\n    {\n      \"column\": \"danceability\",\n      \"properties\": {\n        \"dtype\": \"number\",\n        \"std\": 0.16102896742175046,\n        \"min\": 0.122,\n        \"max\": 0.984,\n        \"num_unique_values\": 632,\n        \"samples\": [\n          0.874,\n          0.677,\n          0.504\n        ],\n        \"semantic_type\": \"\",\n        \"description\": \"\"\n      }\n    },\n    {\n      \"column\": \"duration_ms\",\n      \"properties\": {\n        \"dtype\": \"number\",\n        \"std\": 81981,\n        \"min\": 16042,\n        \"max\": 1004627,\n        \"num_unique_values\": 1921,\n        \"samples\": [\n          187813,\n          200677,\n          227327\n        ],\n        \"semantic_type\": \"\",\n        \"description\": \"\"\n      }\n    },\n    {\n      \"column\": \"energy\",\n      \"properties\": {\n        \"dtype\": \"number\",\n        \"std\": 0.21027300892392287,\n        \"min\": 0.0148,\n        \"max\": 0.998,\n        \"num_unique_values\": 719,\n        \"samples\": [\n          0.416,\n          0.901,\n          0.402\n        ],\n        \"semantic_type\": \"\",\n        \"description\": \"\"\n      }\n    },\n    {\n      \"column\": \"instrumentalness\",\n      \"properties\": {\n        \"dtype\": \"number\",\n        \"std\": 0.2731621791497382,\n        \"min\": 0.0,\n        \"max\": 0.976,\n        \"num_unique_values\": 1107,\n        \"samples\": [\n          0.84,\n          0.00055,\n          0.00155\n        ],\n        \"semantic_type\": \"\",\n        \"description\": \"\"\n      }\n    },\n    {\n      \"column\": \"key\",\n      \"properties\": {\n        \"dtype\": \"number\",\n        \"std\": 3,\n        \"min\": 0,\n        \"max\": 11,\n        \"num_unique_values\": 12,\n        \"samples\": [\n          4,\n          6,\n          2\n        ],\n        \"semantic_type\": \"\",\n        \"description\": \"\"\n      }\n    },\n    {\n      \"column\": \"liveness\",\n      \"properties\": {\n        \"dtype\": \"number\",\n        \"std\": 0.15545316501490128,\n        \"min\": 0.0188,\n        \"max\": 0.969,\n        \"num_unique_values\": 793,\n        \"samples\": [\n          0.0832,\n          0.382,\n          0.0465\n        ],\n        \"semantic_type\": \"\",\n        \"description\": \"\"\n      }\n    },\n    {\n      \"column\": \"loudness\",\n      \"properties\": {\n        \"dtype\": \"number\",\n        \"std\": 3.761684274618797,\n        \"min\": -33.097,\n        \"max\": -0.307,\n        \"num_unique_values\": 1808,\n        \"samples\": [\n          -4.639,\n          -7.83,\n          -5.749\n        ],\n        \"semantic_type\": \"\",\n        \"description\": \"\"\n      }\n    },\n    {\n      \"column\": \"mode\",\n      \"properties\": {\n        \"dtype\": \"number\",\n        \"std\": 0,\n        \"min\": 0,\n        \"max\": 1,\n        \"num_unique_values\": 2,\n        \"samples\": [\n          0,\n          1\n        ],\n        \"semantic_type\": \"\",\n        \"description\": \"\"\n      }\n    },\n    {\n      \"column\": \"speechiness\",\n      \"properties\": {\n        \"dtype\": \"number\",\n        \"std\": 0.08993146446017325,\n        \"min\": 0.0231,\n        \"max\": 0.816,\n        \"num_unique_values\": 792,\n        \"samples\": [\n          0.0901,\n          0.0325\n        ],\n        \"semantic_type\": \"\",\n        \"description\": \"\"\n      }\n    },\n    {\n      \"column\": \"tempo\",\n      \"properties\": {\n        \"dtype\": \"number\",\n        \"std\": 26.685603730436636,\n        \"min\": 47.859,\n        \"max\": 219.331,\n        \"num_unique_values\": 1919,\n        \"samples\": [\n          126.112,\n          123.036\n        ],\n        \"semantic_type\": \"\",\n        \"description\": \"\"\n      }\n    },\n    {\n      \"column\": \"time_signature\",\n      \"properties\": {\n        \"dtype\": \"number\",\n        \"std\": 0.2558533624848524,\n        \"min\": 1.0,\n        \"max\": 5.0,\n        \"num_unique_values\": 4,\n        \"samples\": [\n          3.0,\n          1.0\n        ],\n        \"semantic_type\": \"\",\n        \"description\": \"\"\n      }\n    },\n    {\n      \"column\": \"valence\",\n      \"properties\": {\n        \"dtype\": \"number\",\n        \"std\": 0.24719546872735612,\n        \"min\": 0.0348,\n        \"max\": 0.992,\n        \"num_unique_values\": 853,\n        \"samples\": [\n          0.361,\n          0.306\n        ],\n        \"semantic_type\": \"\",\n        \"description\": \"\"\n      }\n    },\n    {\n      \"column\": \"target\",\n      \"properties\": {\n        \"dtype\": \"number\",\n        \"std\": 0,\n        \"min\": 0,\n        \"max\": 1,\n        \"num_unique_values\": 2,\n        \"samples\": [\n          0,\n          1\n        ],\n        \"semantic_type\": \"\",\n        \"description\": \"\"\n      }\n    },\n    {\n      \"column\": \"song_title\",\n      \"properties\": {\n        \"dtype\": \"string\",\n        \"num_unique_values\": 1956,\n        \"samples\": [\n          \"Morning Call - Remix Version\",\n          \"All My Life\"\n        ],\n        \"semantic_type\": \"\",\n        \"description\": \"\"\n      }\n    },\n    {\n      \"column\": \"artist\",\n      \"properties\": {\n        \"dtype\": \"string\",\n        \"num_unique_values\": 1343,\n        \"samples\": [\n          \"Mallary Hope\",\n          \"Patrick Di Stefano\"\n        ],\n        \"semantic_type\": \"\",\n        \"description\": \"\"\n      }\n    }\n  ]\n}"
            }
          },
          "metadata": {},
          "execution_count": 23
        }
      ],
      "source": [
        "dataset =pd.read_csv('data.csv')\n",
        "dataset.head()"
      ]
    },
    {
      "cell_type": "code",
      "source": [
        "dataset.isnull().sum()"
      ],
      "metadata": {
        "colab": {
          "base_uri": "https://localhost:8080/"
        },
        "id": "xRWgJbAM5zOV",
        "outputId": "22829e04-80dc-45f3-8375-df168d133509"
      },
      "execution_count": null,
      "outputs": [
        {
          "output_type": "execute_result",
          "data": {
            "text/plain": [
              "id                  0\n",
              "acousticness        0\n",
              "danceability        0\n",
              "duration_ms         0\n",
              "energy              0\n",
              "instrumentalness    0\n",
              "key                 0\n",
              "liveness            0\n",
              "loudness            0\n",
              "mode                0\n",
              "speechiness         0\n",
              "tempo               0\n",
              "time_signature      0\n",
              "valence             0\n",
              "target              0\n",
              "song_title          0\n",
              "artist              0\n",
              "dtype: int64"
            ]
          },
          "metadata": {},
          "execution_count": 4
        }
      ]
    },
    {
      "cell_type": "code",
      "source": [
        "dataset.describe()"
      ],
      "metadata": {
        "colab": {
          "base_uri": "https://localhost:8080/",
          "height": 320
        },
        "id": "HR9b6ytp6Sb7",
        "outputId": "6f87fdfd-7aed-40c2-fe01-b783057eadb0"
      },
      "execution_count": null,
      "outputs": [
        {
          "output_type": "execute_result",
          "data": {
            "text/plain": [
              "                id  acousticness  danceability   duration_ms       energy  \\\n",
              "count  2017.000000   2017.000000   2017.000000  2.017000e+03  2017.000000   \n",
              "mean   1008.000000      0.187590      0.618422  2.463062e+05     0.681577   \n",
              "std     582.402066      0.259989      0.161029  8.198181e+04     0.210273   \n",
              "min       0.000000      0.000003      0.122000  1.604200e+04     0.014800   \n",
              "25%     504.000000      0.009630      0.514000  2.000150e+05     0.563000   \n",
              "50%    1008.000000      0.063300      0.631000  2.292610e+05     0.715000   \n",
              "75%    1512.000000      0.265000      0.738000  2.703330e+05     0.846000   \n",
              "max    2016.000000      0.995000      0.984000  1.004627e+06     0.998000   \n",
              "\n",
              "       instrumentalness          key     liveness     loudness         mode  \\\n",
              "count       2017.000000  2017.000000  2017.000000  2017.000000  2017.000000   \n",
              "mean           0.133286     5.342588     0.190844    -7.085624     0.612295   \n",
              "std            0.273162     3.648240     0.155453     3.761684     0.487347   \n",
              "min            0.000000     0.000000     0.018800   -33.097000     0.000000   \n",
              "25%            0.000000     2.000000     0.092300    -8.394000     0.000000   \n",
              "50%            0.000076     6.000000     0.127000    -6.248000     1.000000   \n",
              "75%            0.054000     9.000000     0.247000    -4.746000     1.000000   \n",
              "max            0.976000    11.000000     0.969000    -0.307000     1.000000   \n",
              "\n",
              "       speechiness        tempo  time_signature      valence       target  \n",
              "count  2017.000000  2017.000000     2017.000000  2017.000000  2017.000000  \n",
              "mean      0.092664   121.603272        3.968270     0.496815     0.505702  \n",
              "std       0.089931    26.685604        0.255853     0.247195     0.500091  \n",
              "min       0.023100    47.859000        1.000000     0.034800     0.000000  \n",
              "25%       0.037500   100.189000        4.000000     0.295000     0.000000  \n",
              "50%       0.054900   121.427000        4.000000     0.492000     1.000000  \n",
              "75%       0.108000   137.849000        4.000000     0.691000     1.000000  \n",
              "max       0.816000   219.331000        5.000000     0.992000     1.000000  "
            ],
            "text/html": [
              "\n",
              "  <div id=\"df-eae8f1aa-3408-40ac-a7ff-ef65637039b6\" class=\"colab-df-container\">\n",
              "    <div>\n",
              "<style scoped>\n",
              "    .dataframe tbody tr th:only-of-type {\n",
              "        vertical-align: middle;\n",
              "    }\n",
              "\n",
              "    .dataframe tbody tr th {\n",
              "        vertical-align: top;\n",
              "    }\n",
              "\n",
              "    .dataframe thead th {\n",
              "        text-align: right;\n",
              "    }\n",
              "</style>\n",
              "<table border=\"1\" class=\"dataframe\">\n",
              "  <thead>\n",
              "    <tr style=\"text-align: right;\">\n",
              "      <th></th>\n",
              "      <th>id</th>\n",
              "      <th>acousticness</th>\n",
              "      <th>danceability</th>\n",
              "      <th>duration_ms</th>\n",
              "      <th>energy</th>\n",
              "      <th>instrumentalness</th>\n",
              "      <th>key</th>\n",
              "      <th>liveness</th>\n",
              "      <th>loudness</th>\n",
              "      <th>mode</th>\n",
              "      <th>speechiness</th>\n",
              "      <th>tempo</th>\n",
              "      <th>time_signature</th>\n",
              "      <th>valence</th>\n",
              "      <th>target</th>\n",
              "    </tr>\n",
              "  </thead>\n",
              "  <tbody>\n",
              "    <tr>\n",
              "      <th>count</th>\n",
              "      <td>2017.000000</td>\n",
              "      <td>2017.000000</td>\n",
              "      <td>2017.000000</td>\n",
              "      <td>2.017000e+03</td>\n",
              "      <td>2017.000000</td>\n",
              "      <td>2017.000000</td>\n",
              "      <td>2017.000000</td>\n",
              "      <td>2017.000000</td>\n",
              "      <td>2017.000000</td>\n",
              "      <td>2017.000000</td>\n",
              "      <td>2017.000000</td>\n",
              "      <td>2017.000000</td>\n",
              "      <td>2017.000000</td>\n",
              "      <td>2017.000000</td>\n",
              "      <td>2017.000000</td>\n",
              "    </tr>\n",
              "    <tr>\n",
              "      <th>mean</th>\n",
              "      <td>1008.000000</td>\n",
              "      <td>0.187590</td>\n",
              "      <td>0.618422</td>\n",
              "      <td>2.463062e+05</td>\n",
              "      <td>0.681577</td>\n",
              "      <td>0.133286</td>\n",
              "      <td>5.342588</td>\n",
              "      <td>0.190844</td>\n",
              "      <td>-7.085624</td>\n",
              "      <td>0.612295</td>\n",
              "      <td>0.092664</td>\n",
              "      <td>121.603272</td>\n",
              "      <td>3.968270</td>\n",
              "      <td>0.496815</td>\n",
              "      <td>0.505702</td>\n",
              "    </tr>\n",
              "    <tr>\n",
              "      <th>std</th>\n",
              "      <td>582.402066</td>\n",
              "      <td>0.259989</td>\n",
              "      <td>0.161029</td>\n",
              "      <td>8.198181e+04</td>\n",
              "      <td>0.210273</td>\n",
              "      <td>0.273162</td>\n",
              "      <td>3.648240</td>\n",
              "      <td>0.155453</td>\n",
              "      <td>3.761684</td>\n",
              "      <td>0.487347</td>\n",
              "      <td>0.089931</td>\n",
              "      <td>26.685604</td>\n",
              "      <td>0.255853</td>\n",
              "      <td>0.247195</td>\n",
              "      <td>0.500091</td>\n",
              "    </tr>\n",
              "    <tr>\n",
              "      <th>min</th>\n",
              "      <td>0.000000</td>\n",
              "      <td>0.000003</td>\n",
              "      <td>0.122000</td>\n",
              "      <td>1.604200e+04</td>\n",
              "      <td>0.014800</td>\n",
              "      <td>0.000000</td>\n",
              "      <td>0.000000</td>\n",
              "      <td>0.018800</td>\n",
              "      <td>-33.097000</td>\n",
              "      <td>0.000000</td>\n",
              "      <td>0.023100</td>\n",
              "      <td>47.859000</td>\n",
              "      <td>1.000000</td>\n",
              "      <td>0.034800</td>\n",
              "      <td>0.000000</td>\n",
              "    </tr>\n",
              "    <tr>\n",
              "      <th>25%</th>\n",
              "      <td>504.000000</td>\n",
              "      <td>0.009630</td>\n",
              "      <td>0.514000</td>\n",
              "      <td>2.000150e+05</td>\n",
              "      <td>0.563000</td>\n",
              "      <td>0.000000</td>\n",
              "      <td>2.000000</td>\n",
              "      <td>0.092300</td>\n",
              "      <td>-8.394000</td>\n",
              "      <td>0.000000</td>\n",
              "      <td>0.037500</td>\n",
              "      <td>100.189000</td>\n",
              "      <td>4.000000</td>\n",
              "      <td>0.295000</td>\n",
              "      <td>0.000000</td>\n",
              "    </tr>\n",
              "    <tr>\n",
              "      <th>50%</th>\n",
              "      <td>1008.000000</td>\n",
              "      <td>0.063300</td>\n",
              "      <td>0.631000</td>\n",
              "      <td>2.292610e+05</td>\n",
              "      <td>0.715000</td>\n",
              "      <td>0.000076</td>\n",
              "      <td>6.000000</td>\n",
              "      <td>0.127000</td>\n",
              "      <td>-6.248000</td>\n",
              "      <td>1.000000</td>\n",
              "      <td>0.054900</td>\n",
              "      <td>121.427000</td>\n",
              "      <td>4.000000</td>\n",
              "      <td>0.492000</td>\n",
              "      <td>1.000000</td>\n",
              "    </tr>\n",
              "    <tr>\n",
              "      <th>75%</th>\n",
              "      <td>1512.000000</td>\n",
              "      <td>0.265000</td>\n",
              "      <td>0.738000</td>\n",
              "      <td>2.703330e+05</td>\n",
              "      <td>0.846000</td>\n",
              "      <td>0.054000</td>\n",
              "      <td>9.000000</td>\n",
              "      <td>0.247000</td>\n",
              "      <td>-4.746000</td>\n",
              "      <td>1.000000</td>\n",
              "      <td>0.108000</td>\n",
              "      <td>137.849000</td>\n",
              "      <td>4.000000</td>\n",
              "      <td>0.691000</td>\n",
              "      <td>1.000000</td>\n",
              "    </tr>\n",
              "    <tr>\n",
              "      <th>max</th>\n",
              "      <td>2016.000000</td>\n",
              "      <td>0.995000</td>\n",
              "      <td>0.984000</td>\n",
              "      <td>1.004627e+06</td>\n",
              "      <td>0.998000</td>\n",
              "      <td>0.976000</td>\n",
              "      <td>11.000000</td>\n",
              "      <td>0.969000</td>\n",
              "      <td>-0.307000</td>\n",
              "      <td>1.000000</td>\n",
              "      <td>0.816000</td>\n",
              "      <td>219.331000</td>\n",
              "      <td>5.000000</td>\n",
              "      <td>0.992000</td>\n",
              "      <td>1.000000</td>\n",
              "    </tr>\n",
              "  </tbody>\n",
              "</table>\n",
              "</div>\n",
              "    <div class=\"colab-df-buttons\">\n",
              "\n",
              "  <div class=\"colab-df-container\">\n",
              "    <button class=\"colab-df-convert\" onclick=\"convertToInteractive('df-eae8f1aa-3408-40ac-a7ff-ef65637039b6')\"\n",
              "            title=\"Convert this dataframe to an interactive table.\"\n",
              "            style=\"display:none;\">\n",
              "\n",
              "  <svg xmlns=\"http://www.w3.org/2000/svg\" height=\"24px\" viewBox=\"0 -960 960 960\">\n",
              "    <path d=\"M120-120v-720h720v720H120Zm60-500h600v-160H180v160Zm220 220h160v-160H400v160Zm0 220h160v-160H400v160ZM180-400h160v-160H180v160Zm440 0h160v-160H620v160ZM180-180h160v-160H180v160Zm440 0h160v-160H620v160Z\"/>\n",
              "  </svg>\n",
              "    </button>\n",
              "\n",
              "  <style>\n",
              "    .colab-df-container {\n",
              "      display:flex;\n",
              "      gap: 12px;\n",
              "    }\n",
              "\n",
              "    .colab-df-convert {\n",
              "      background-color: #E8F0FE;\n",
              "      border: none;\n",
              "      border-radius: 50%;\n",
              "      cursor: pointer;\n",
              "      display: none;\n",
              "      fill: #1967D2;\n",
              "      height: 32px;\n",
              "      padding: 0 0 0 0;\n",
              "      width: 32px;\n",
              "    }\n",
              "\n",
              "    .colab-df-convert:hover {\n",
              "      background-color: #E2EBFA;\n",
              "      box-shadow: 0px 1px 2px rgba(60, 64, 67, 0.3), 0px 1px 3px 1px rgba(60, 64, 67, 0.15);\n",
              "      fill: #174EA6;\n",
              "    }\n",
              "\n",
              "    .colab-df-buttons div {\n",
              "      margin-bottom: 4px;\n",
              "    }\n",
              "\n",
              "    [theme=dark] .colab-df-convert {\n",
              "      background-color: #3B4455;\n",
              "      fill: #D2E3FC;\n",
              "    }\n",
              "\n",
              "    [theme=dark] .colab-df-convert:hover {\n",
              "      background-color: #434B5C;\n",
              "      box-shadow: 0px 1px 3px 1px rgba(0, 0, 0, 0.15);\n",
              "      filter: drop-shadow(0px 1px 2px rgba(0, 0, 0, 0.3));\n",
              "      fill: #FFFFFF;\n",
              "    }\n",
              "  </style>\n",
              "\n",
              "    <script>\n",
              "      const buttonEl =\n",
              "        document.querySelector('#df-eae8f1aa-3408-40ac-a7ff-ef65637039b6 button.colab-df-convert');\n",
              "      buttonEl.style.display =\n",
              "        google.colab.kernel.accessAllowed ? 'block' : 'none';\n",
              "\n",
              "      async function convertToInteractive(key) {\n",
              "        const element = document.querySelector('#df-eae8f1aa-3408-40ac-a7ff-ef65637039b6');\n",
              "        const dataTable =\n",
              "          await google.colab.kernel.invokeFunction('convertToInteractive',\n",
              "                                                    [key], {});\n",
              "        if (!dataTable) return;\n",
              "\n",
              "        const docLinkHtml = 'Like what you see? Visit the ' +\n",
              "          '<a target=\"_blank\" href=https://colab.research.google.com/notebooks/data_table.ipynb>data table notebook</a>'\n",
              "          + ' to learn more about interactive tables.';\n",
              "        element.innerHTML = '';\n",
              "        dataTable['output_type'] = 'display_data';\n",
              "        await google.colab.output.renderOutput(dataTable, element);\n",
              "        const docLink = document.createElement('div');\n",
              "        docLink.innerHTML = docLinkHtml;\n",
              "        element.appendChild(docLink);\n",
              "      }\n",
              "    </script>\n",
              "  </div>\n",
              "\n",
              "\n",
              "<div id=\"df-57dcff81-0dfb-4419-abe9-c56cb59f03e8\">\n",
              "  <button class=\"colab-df-quickchart\" onclick=\"quickchart('df-57dcff81-0dfb-4419-abe9-c56cb59f03e8')\"\n",
              "            title=\"Suggest charts\"\n",
              "            style=\"display:none;\">\n",
              "\n",
              "<svg xmlns=\"http://www.w3.org/2000/svg\" height=\"24px\"viewBox=\"0 0 24 24\"\n",
              "     width=\"24px\">\n",
              "    <g>\n",
              "        <path d=\"M19 3H5c-1.1 0-2 .9-2 2v14c0 1.1.9 2 2 2h14c1.1 0 2-.9 2-2V5c0-1.1-.9-2-2-2zM9 17H7v-7h2v7zm4 0h-2V7h2v10zm4 0h-2v-4h2v4z\"/>\n",
              "    </g>\n",
              "</svg>\n",
              "  </button>\n",
              "\n",
              "<style>\n",
              "  .colab-df-quickchart {\n",
              "      --bg-color: #E8F0FE;\n",
              "      --fill-color: #1967D2;\n",
              "      --hover-bg-color: #E2EBFA;\n",
              "      --hover-fill-color: #174EA6;\n",
              "      --disabled-fill-color: #AAA;\n",
              "      --disabled-bg-color: #DDD;\n",
              "  }\n",
              "\n",
              "  [theme=dark] .colab-df-quickchart {\n",
              "      --bg-color: #3B4455;\n",
              "      --fill-color: #D2E3FC;\n",
              "      --hover-bg-color: #434B5C;\n",
              "      --hover-fill-color: #FFFFFF;\n",
              "      --disabled-bg-color: #3B4455;\n",
              "      --disabled-fill-color: #666;\n",
              "  }\n",
              "\n",
              "  .colab-df-quickchart {\n",
              "    background-color: var(--bg-color);\n",
              "    border: none;\n",
              "    border-radius: 50%;\n",
              "    cursor: pointer;\n",
              "    display: none;\n",
              "    fill: var(--fill-color);\n",
              "    height: 32px;\n",
              "    padding: 0;\n",
              "    width: 32px;\n",
              "  }\n",
              "\n",
              "  .colab-df-quickchart:hover {\n",
              "    background-color: var(--hover-bg-color);\n",
              "    box-shadow: 0 1px 2px rgba(60, 64, 67, 0.3), 0 1px 3px 1px rgba(60, 64, 67, 0.15);\n",
              "    fill: var(--button-hover-fill-color);\n",
              "  }\n",
              "\n",
              "  .colab-df-quickchart-complete:disabled,\n",
              "  .colab-df-quickchart-complete:disabled:hover {\n",
              "    background-color: var(--disabled-bg-color);\n",
              "    fill: var(--disabled-fill-color);\n",
              "    box-shadow: none;\n",
              "  }\n",
              "\n",
              "  .colab-df-spinner {\n",
              "    border: 2px solid var(--fill-color);\n",
              "    border-color: transparent;\n",
              "    border-bottom-color: var(--fill-color);\n",
              "    animation:\n",
              "      spin 1s steps(1) infinite;\n",
              "  }\n",
              "\n",
              "  @keyframes spin {\n",
              "    0% {\n",
              "      border-color: transparent;\n",
              "      border-bottom-color: var(--fill-color);\n",
              "      border-left-color: var(--fill-color);\n",
              "    }\n",
              "    20% {\n",
              "      border-color: transparent;\n",
              "      border-left-color: var(--fill-color);\n",
              "      border-top-color: var(--fill-color);\n",
              "    }\n",
              "    30% {\n",
              "      border-color: transparent;\n",
              "      border-left-color: var(--fill-color);\n",
              "      border-top-color: var(--fill-color);\n",
              "      border-right-color: var(--fill-color);\n",
              "    }\n",
              "    40% {\n",
              "      border-color: transparent;\n",
              "      border-right-color: var(--fill-color);\n",
              "      border-top-color: var(--fill-color);\n",
              "    }\n",
              "    60% {\n",
              "      border-color: transparent;\n",
              "      border-right-color: var(--fill-color);\n",
              "    }\n",
              "    80% {\n",
              "      border-color: transparent;\n",
              "      border-right-color: var(--fill-color);\n",
              "      border-bottom-color: var(--fill-color);\n",
              "    }\n",
              "    90% {\n",
              "      border-color: transparent;\n",
              "      border-bottom-color: var(--fill-color);\n",
              "    }\n",
              "  }\n",
              "</style>\n",
              "\n",
              "  <script>\n",
              "    async function quickchart(key) {\n",
              "      const quickchartButtonEl =\n",
              "        document.querySelector('#' + key + ' button');\n",
              "      quickchartButtonEl.disabled = true;  // To prevent multiple clicks.\n",
              "      quickchartButtonEl.classList.add('colab-df-spinner');\n",
              "      try {\n",
              "        const charts = await google.colab.kernel.invokeFunction(\n",
              "            'suggestCharts', [key], {});\n",
              "      } catch (error) {\n",
              "        console.error('Error during call to suggestCharts:', error);\n",
              "      }\n",
              "      quickchartButtonEl.classList.remove('colab-df-spinner');\n",
              "      quickchartButtonEl.classList.add('colab-df-quickchart-complete');\n",
              "    }\n",
              "    (() => {\n",
              "      let quickchartButtonEl =\n",
              "        document.querySelector('#df-57dcff81-0dfb-4419-abe9-c56cb59f03e8 button');\n",
              "      quickchartButtonEl.style.display =\n",
              "        google.colab.kernel.accessAllowed ? 'block' : 'none';\n",
              "    })();\n",
              "  </script>\n",
              "</div>\n",
              "\n",
              "    </div>\n",
              "  </div>\n"
            ],
            "application/vnd.google.colaboratory.intrinsic+json": {
              "type": "dataframe",
              "summary": "{\n  \"name\": \"dataset\",\n  \"rows\": 8,\n  \"fields\": [\n    {\n      \"column\": \"id\",\n      \"properties\": {\n        \"dtype\": \"number\",\n        \"std\": 726.7176554244794,\n        \"min\": 0.0,\n        \"max\": 2017.0,\n        \"num_unique_values\": 7,\n        \"samples\": [\n          2017.0,\n          1008.0,\n          1512.0\n        ],\n        \"semantic_type\": \"\",\n        \"description\": \"\"\n      }\n    },\n    {\n      \"column\": \"acousticness\",\n      \"properties\": {\n        \"dtype\": \"number\",\n        \"std\": 713.027330934041,\n        \"min\": 2.84e-06,\n        \"max\": 2017.0,\n        \"num_unique_values\": 8,\n        \"samples\": [\n          0.1875900344224095,\n          0.0633,\n          2017.0\n        ],\n        \"semantic_type\": \"\",\n        \"description\": \"\"\n      }\n    },\n    {\n      \"column\": \"danceability\",\n      \"properties\": {\n        \"dtype\": \"number\",\n        \"std\": 712.9269103999986,\n        \"min\": 0.122,\n        \"max\": 2017.0,\n        \"num_unique_values\": 8,\n        \"samples\": [\n          0.6184219137332672,\n          0.631,\n          2017.0\n        ],\n        \"semantic_type\": \"\",\n        \"description\": \"\"\n      }\n    },\n    {\n      \"column\": \"duration_ms\",\n      \"properties\": {\n        \"dtype\": \"number\",\n        \"std\": 320035.6643555003,\n        \"min\": 2017.0,\n        \"max\": 1004627.0,\n        \"num_unique_values\": 8,\n        \"samples\": [\n          246306.19732275658,\n          229261.0,\n          2017.0\n        ],\n        \"semantic_type\": \"\",\n        \"description\": \"\"\n      }\n    },\n    {\n      \"column\": \"energy\",\n      \"properties\": {\n        \"dtype\": \"number\",\n        \"std\": 712.9137844390718,\n        \"min\": 0.0148,\n        \"max\": 2017.0,\n        \"num_unique_values\": 8,\n        \"samples\": [\n          0.6815771442736738,\n          0.715,\n          2017.0\n        ],\n        \"semantic_type\": \"\",\n        \"description\": \"\"\n      }\n    },\n    {\n      \"column\": \"instrumentalness\",\n      \"properties\": {\n        \"dtype\": \"number\",\n        \"std\": 713.0447088511148,\n        \"min\": 0.0,\n        \"max\": 2017.0,\n        \"num_unique_values\": 7,\n        \"samples\": [\n          2017.0,\n          0.13328552863163115,\n          0.054\n        ],\n        \"semantic_type\": \"\",\n        \"description\": \"\"\n      }\n    },\n    {\n      \"column\": \"key\",\n      \"properties\": {\n        \"dtype\": \"number\",\n        \"std\": 711.2577453729169,\n        \"min\": 0.0,\n        \"max\": 2017.0,\n        \"num_unique_values\": 8,\n        \"samples\": [\n          5.3425880019831435,\n          6.0,\n          2017.0\n        ],\n        \"semantic_type\": \"\",\n        \"description\": \"\"\n      }\n    },\n    {\n      \"column\": \"liveness\",\n      \"properties\": {\n        \"dtype\": \"number\",\n        \"std\": 713.0263173961537,\n        \"min\": 0.0188,\n        \"max\": 2017.0,\n        \"num_unique_values\": 8,\n        \"samples\": [\n          0.19084402578086268,\n          0.127,\n          2017.0\n        ],\n        \"semantic_type\": \"\",\n        \"description\": \"\"\n      }\n    },\n    {\n      \"column\": \"loudness\",\n      \"properties\": {\n        \"dtype\": \"number\",\n        \"std\": 716.0354735943299,\n        \"min\": -33.097,\n        \"max\": 2017.0,\n        \"num_unique_values\": 8,\n        \"samples\": [\n          -7.085624194348043,\n          -6.248,\n          2017.0\n        ],\n        \"semantic_type\": \"\",\n        \"description\": \"\"\n      }\n    },\n    {\n      \"column\": \"mode\",\n      \"properties\": {\n        \"dtype\": \"number\",\n        \"std\": 712.9102469665262,\n        \"min\": 0.0,\n        \"max\": 2017.0,\n        \"num_unique_values\": 5,\n        \"samples\": [\n          0.6122954883490332,\n          1.0,\n          0.48734738753315276\n        ],\n        \"semantic_type\": \"\",\n        \"description\": \"\"\n      }\n    },\n    {\n      \"column\": \"speechiness\",\n      \"properties\": {\n        \"dtype\": \"number\",\n        \"std\": 713.0555123343188,\n        \"min\": 0.0231,\n        \"max\": 2017.0,\n        \"num_unique_values\": 8,\n        \"samples\": [\n          0.0926642538423401,\n          0.0549,\n          2017.0\n        ],\n        \"semantic_type\": \"\",\n        \"description\": \"\"\n      }\n    },\n    {\n      \"column\": \"tempo\",\n      \"properties\": {\n        \"dtype\": \"number\",\n        \"std\": 676.5037136407069,\n        \"min\": 26.685603730436636,\n        \"max\": 2017.0,\n        \"num_unique_values\": 8,\n        \"samples\": [\n          121.60327169062965,\n          121.427,\n          2017.0\n        ],\n        \"semantic_type\": \"\",\n        \"description\": \"\"\n      }\n    },\n    {\n      \"column\": \"time_signature\",\n      \"properties\": {\n        \"dtype\": \"number\",\n        \"std\": 711.996632677792,\n        \"min\": 0.2558533624848524,\n        \"max\": 2017.0,\n        \"num_unique_values\": 6,\n        \"samples\": [\n          2017.0,\n          3.9682697074863658,\n          5.0\n        ],\n        \"semantic_type\": \"\",\n        \"description\": \"\"\n      }\n    },\n    {\n      \"column\": \"valence\",\n      \"properties\": {\n        \"dtype\": \"number\",\n        \"std\": 712.9531584232185,\n        \"min\": 0.0348,\n        \"max\": 2017.0,\n        \"num_unique_values\": 8,\n        \"samples\": [\n          0.49681502231036195,\n          0.492,\n          2017.0\n        ],\n        \"semantic_type\": \"\",\n        \"description\": \"\"\n      }\n    },\n    {\n      \"column\": \"target\",\n      \"properties\": {\n        \"dtype\": \"number\",\n        \"std\": 712.9149873083034,\n        \"min\": 0.0,\n        \"max\": 2017.0,\n        \"num_unique_values\": 5,\n        \"samples\": [\n          0.5057015369360436,\n          1.0,\n          0.5000914759204672\n        ],\n        \"semantic_type\": \"\",\n        \"description\": \"\"\n      }\n    }\n  ]\n}"
            }
          },
          "metadata": {},
          "execution_count": 5
        }
      ]
    },
    {
      "cell_type": "code",
      "source": [
        "#relação entre a acusticidade de uma musica e a daçabilidade dela\n",
        "style.use(\"seaborn-colorblind\")\n",
        "dataset.plot(x='acousticness',y='danceability',c='target',kind='scatter',colormap='Accent_r')"
      ],
      "metadata": {
        "colab": {
          "base_uri": "https://localhost:8080/",
          "height": 527
        },
        "id": "csRce3kg6khq",
        "outputId": "2641edd6-44a6-4376-eb0d-f4d478d8ccf8"
      },
      "execution_count": null,
      "outputs": [
        {
          "output_type": "stream",
          "name": "stderr",
          "text": [
            "<ipython-input-12-0ac5e1fc4b57>:1: MatplotlibDeprecationWarning: The seaborn styles shipped by Matplotlib are deprecated since 3.6, as they no longer correspond to the styles shipped by seaborn. However, they will remain available as 'seaborn-v0_8-<style>'. Alternatively, directly use the seaborn API instead.\n",
            "  style.use(\"seaborn-colorblind\")\n"
          ]
        },
        {
          "output_type": "execute_result",
          "data": {
            "text/plain": [
              "<Axes: xlabel='acousticness', ylabel='danceability'>"
            ]
          },
          "metadata": {},
          "execution_count": 12
        },
        {
          "output_type": "display_data",
          "data": {
            "text/plain": [
              "<Figure size 640x480 with 2 Axes>"
            ],
            "image/png": "[encoded data removed]"
          },
          "metadata": {}
        }
      ]
    },
    {
      "cell_type": "code",
      "source": [
        "#se o tempo da msc está relocianado com a poisitividade dela\n",
        "style.use(\"seaborn-colorblind\")\n",
        "dataset.plot(x='tempo',y='valence',c='target',kind='scatter',colormap='Accent_r')"
      ],
      "metadata": {
        "colab": {
          "base_uri": "https://localhost:8080/",
          "height": 527
        },
        "id": "KExgCzTv7Lge",
        "outputId": "54302bfb-7b8a-44d7-b504-0ad9439ba641"
      },
      "execution_count": null,
      "outputs": [
        {
          "output_type": "stream",
          "name": "stderr",
          "text": [
            "<ipython-input-14-6ea1af011d01>:2: MatplotlibDeprecationWarning: The seaborn styles shipped by Matplotlib are deprecated since 3.6, as they no longer correspond to the styles shipped by seaborn. However, they will remain available as 'seaborn-v0_8-<style>'. Alternatively, directly use the seaborn API instead.\n",
            "  style.use(\"seaborn-colorblind\")\n"
          ]
        },
        {
          "output_type": "execute_result",
          "data": {
            "text/plain": [
              "<Axes: xlabel='tempo', ylabel='valence'>"
            ]
          },
          "metadata": {},
          "execution_count": 14
        },
        {
          "output_type": "display_data",
          "data": {
            "text/plain": [
              "<Figure size 640x480 with 2 Axes>"
            ],
            "image/png": "[encoded data removed]"
          },
          "metadata": {}
        }
      ]
    },
    {
      "cell_type": "markdown",
      "source": [
        "#pre processamento"
      ],
      "metadata": {
        "id": "zrsGukYMCv4t"
      }
    },
    {
      "cell_type": "code",
      "source": [
        "classes=dataset['target']\n",
        "dataset.drop('target',axis=1,inplace=True)\n",
        "\n",
        "dataset.head()"
      ],
      "metadata": {
        "colab": {
          "base_uri": "https://localhost:8080/",
          "height": 206
        },
        "id": "8qYeeQgj9gAJ",
        "outputId": "951770aa-3b8a-4442-bbc5-4846c92b9448"
      },
      "execution_count": 30,
      "outputs": [
        {
          "output_type": "execute_result",
          "data": {
            "text/plain": [
              "   id  acousticness  danceability  duration_ms  energy  instrumentalness  key  \\\n",
              "0   0        0.0102         0.833       204600   0.434          0.021900    2   \n",
              "1   1        0.1990         0.743       326933   0.359          0.006110    1   \n",
              "2   2        0.0344         0.838       185707   0.412          0.000234    2   \n",
              "3   3        0.6040         0.494       199413   0.338          0.510000    5   \n",
              "4   4        0.1800         0.678       392893   0.561          0.512000    5   \n",
              "\n",
              "   liveness  loudness  mode  speechiness    tempo  time_signature  valence  \\\n",
              "0    0.1650    -8.795     1       0.4310  150.062             4.0    0.286   \n",
              "1    0.1370   -10.401     1       0.0794  160.083             4.0    0.588   \n",
              "2    0.1590    -7.148     1       0.2890   75.044             4.0    0.173   \n",
              "3    0.0922   -15.236     1       0.0261   86.468             4.0    0.230   \n",
              "4    0.4390   -11.648     0       0.0694  174.004             4.0    0.904   \n",
              "\n",
              "       song_title            artist  \n",
              "0        Mask Off            Future  \n",
              "1         Redbone  Childish Gambino  \n",
              "2    Xanny Family            Future  \n",
              "3  Master Of None       Beach House  \n",
              "4  Parallel Lines       Junior Boys  "
            ],
            "text/html": [
              "\n",
              "  <div id=\"df-149fc12d-916c-42ab-934e-126a1acec31f\" class=\"colab-df-container\">\n",
              "    <div>\n",
              "<style scoped>\n",
              "    .dataframe tbody tr th:only-of-type {\n",
              "        vertical-align: middle;\n",
              "    }\n",
              "\n",
              "    .dataframe tbody tr th {\n",
              "        vertical-align: top;\n",
              "    }\n",
              "\n",
              "    .dataframe thead th {\n",
              "        text-align: right;\n",
              "    }\n",
              "</style>\n",
              "<table border=\"1\" class=\"dataframe\">\n",
              "  <thead>\n",
              "    <tr style=\"text-align: right;\">\n",
              "      <th></th>\n",
              "      <th>id</th>\n",
              "      <th>acousticness</th>\n",
              "      <th>danceability</th>\n",
              "      <th>duration_ms</th>\n",
              "      <th>energy</th>\n",
              "      <th>instrumentalness</th>\n",
              "      <th>key</th>\n",
              "      <th>liveness</th>\n",
              "      <th>loudness</th>\n",
              "      <th>mode</th>\n",
              "      <th>speechiness</th>\n",
              "      <th>tempo</th>\n",
              "      <th>time_signature</th>\n",
              "      <th>valence</th>\n",
              "      <th>song_title</th>\n",
              "      <th>artist</th>\n",
              "    </tr>\n",
              "  </thead>\n",
              "  <tbody>\n",
              "    <tr>\n",
              "      <th>0</th>\n",
              "      <td>0</td>\n",
              "      <td>0.0102</td>\n",
              "      <td>0.833</td>\n",
              "      <td>204600</td>\n",
              "      <td>0.434</td>\n",
              "      <td>0.021900</td>\n",
              "      <td>2</td>\n",
              "      <td>0.1650</td>\n",
              "      <td>-8.795</td>\n",
              "      <td>1</td>\n",
              "      <td>0.4310</td>\n",
              "      <td>150.062</td>\n",
              "      <td>4.0</td>\n",
              "      <td>0.286</td>\n",
              "      <td>Mask Off</td>\n",
              "      <td>Future</td>\n",
              "    </tr>\n",
              "    <tr>\n",
              "      <th>1</th>\n",
              "      <td>1</td>\n",
              "      <td>0.1990</td>\n",
              "      <td>0.743</td>\n",
              "      <td>326933</td>\n",
              "      <td>0.359</td>\n",
              "      <td>0.006110</td>\n",
              "      <td>1</td>\n",
              "      <td>0.1370</td>\n",
              "      <td>-10.401</td>\n",
              "      <td>1</td>\n",
              "      <td>0.0794</td>\n",
              "      <td>160.083</td>\n",
              "      <td>4.0</td>\n",
              "      <td>0.588</td>\n",
              "      <td>Redbone</td>\n",
              "      <td>Childish Gambino</td>\n",
              "    </tr>\n",
              "    <tr>\n",
              "      <th>2</th>\n",
              "      <td>2</td>\n",
              "      <td>0.0344</td>\n",
              "      <td>0.838</td>\n",
              "      <td>185707</td>\n",
              "      <td>0.412</td>\n",
              "      <td>0.000234</td>\n",
              "      <td>2</td>\n",
              "      <td>0.1590</td>\n",
              "      <td>-7.148</td>\n",
              "      <td>1</td>\n",
              "      <td>0.2890</td>\n",
              "      <td>75.044</td>\n",
              "      <td>4.0</td>\n",
              "      <td>0.173</td>\n",
              "      <td>Xanny Family</td>\n",
              "      <td>Future</td>\n",
              "    </tr>\n",
              "    <tr>\n",
              "      <th>3</th>\n",
              "      <td>3</td>\n",
              "      <td>0.6040</td>\n",
              "      <td>0.494</td>\n",
              "      <td>199413</td>\n",
              "      <td>0.338</td>\n",
              "      <td>0.510000</td>\n",
              "      <td>5</td>\n",
              "      <td>0.0922</td>\n",
              "      <td>-15.236</td>\n",
              "      <td>1</td>\n",
              "      <td>0.0261</td>\n",
              "      <td>86.468</td>\n",
              "      <td>4.0</td>\n",
              "      <td>0.230</td>\n",
              "      <td>Master Of None</td>\n",
              "      <td>Beach House</td>\n",
              "    </tr>\n",
              "    <tr>\n",
              "      <th>4</th>\n",
              "      <td>4</td>\n",
              "      <td>0.1800</td>\n",
              "      <td>0.678</td>\n",
              "      <td>392893</td>\n",
              "      <td>0.561</td>\n",
              "      <td>0.512000</td>\n",
              "      <td>5</td>\n",
              "      <td>0.4390</td>\n",
              "      <td>-11.648</td>\n",
              "      <td>0</td>\n",
              "      <td>0.0694</td>\n",
              "      <td>174.004</td>\n",
              "      <td>4.0</td>\n",
              "      <td>0.904</td>\n",
              "      <td>Parallel Lines</td>\n",
              "      <td>Junior Boys</td>\n",
              "    </tr>\n",
              "  </tbody>\n",
              "</table>\n",
              "</div>\n",
              "    <div class=\"colab-df-buttons\">\n",
              "\n",
              "  <div class=\"colab-df-container\">\n",
              "    <button class=\"colab-df-convert\" onclick=\"convertToInteractive('df-149fc12d-916c-42ab-934e-126a1acec31f')\"\n",
              "            title=\"Convert this dataframe to an interactive table.\"\n",
              "            style=\"display:none;\">\n",
              "\n",
              "  <svg xmlns=\"http://www.w3.org/2000/svg\" height=\"24px\" viewBox=\"0 -960 960 960\">\n",
              "    <path d=\"M120-120v-720h720v720H120Zm60-500h600v-160H180v160Zm220 220h160v-160H400v160Zm0 220h160v-160H400v160ZM180-400h160v-160H180v160Zm440 0h160v-160H620v160ZM180-180h160v-160H180v160Zm440 0h160v-160H620v160Z\"/>\n",
              "  </svg>\n",
              "    </button>\n",
              "\n",
              "  <style>\n",
              "    .colab-df-container {\n",
              "      display:flex;\n",
              "      gap: 12px;\n",
              "    }\n",
              "\n",
              "    .colab-df-convert {\n",
              "      background-color: #E8F0FE;\n",
              "      border: none;\n",
              "      border-radius: 50%;\n",
              "      cursor: pointer;\n",
              "      display: none;\n",
              "      fill: #1967D2;\n",
              "      height: 32px;\n",
              "      padding: 0 0 0 0;\n",
              "      width: 32px;\n",
              "    }\n",
              "\n",
              "    .colab-df-convert:hover {\n",
              "      background-color: #E2EBFA;\n",
              "      box-shadow: 0px 1px 2px rgba(60, 64, 67, 0.3), 0px 1px 3px 1px rgba(60, 64, 67, 0.15);\n",
              "      fill: #174EA6;\n",
              "    }\n",
              "\n",
              "    .colab-df-buttons div {\n",
              "      margin-bottom: 4px;\n",
              "    }\n",
              "\n",
              "    [theme=dark] .colab-df-convert {\n",
              "      background-color: #3B4455;\n",
              "      fill: #D2E3FC;\n",
              "    }\n",
              "\n",
              "    [theme=dark] .colab-df-convert:hover {\n",
              "      background-color: #434B5C;\n",
              "      box-shadow: 0px 1px 3px 1px rgba(0, 0, 0, 0.15);\n",
              "      filter: drop-shadow(0px 1px 2px rgba(0, 0, 0, 0.3));\n",
              "      fill: #FFFFFF;\n",
              "    }\n",
              "  </style>\n",
              "\n",
              "    <script>\n",
              "      const buttonEl =\n",
              "        document.querySelector('#df-149fc12d-916c-42ab-934e-126a1acec31f button.colab-df-convert');\n",
              "      buttonEl.style.display =\n",
              "        google.colab.kernel.accessAllowed ? 'block' : 'none';\n",
              "\n",
              "      async function convertToInteractive(key) {\n",
              "        const element = document.querySelector('#df-149fc12d-916c-42ab-934e-126a1acec31f');\n",
              "        const dataTable =\n",
              "          await google.colab.kernel.invokeFunction('convertToInteractive',\n",
              "                                                    [key], {});\n",
              "        if (!dataTable) return;\n",
              "\n",
              "        const docLinkHtml = 'Like what you see? Visit the ' +\n",
              "          '<a target=\"_blank\" href=https://colab.research.google.com/notebooks/data_table.ipynb>data table notebook</a>'\n",
              "          + ' to learn more about interactive tables.';\n",
              "        element.innerHTML = '';\n",
              "        dataTable['output_type'] = 'display_data';\n",
              "        await google.colab.output.renderOutput(dataTable, element);\n",
              "        const docLink = document.createElement('div');\n",
              "        docLink.innerHTML = docLinkHtml;\n",
              "        element.appendChild(docLink);\n",
              "      }\n",
              "    </script>\n",
              "  </div>\n",
              "\n",
              "\n",
              "<div id=\"df-16581be5-c9a8-43d8-9971-a9c7a070f822\">\n",
              "  <button class=\"colab-df-quickchart\" onclick=\"quickchart('df-16581be5-c9a8-43d8-9971-a9c7a070f822')\"\n",
              "            title=\"Suggest charts\"\n",
              "            style=\"display:none;\">\n",
              "\n",
              "<svg xmlns=\"http://www.w3.org/2000/svg\" height=\"24px\"viewBox=\"0 0 24 24\"\n",
              "     width=\"24px\">\n",
              "    <g>\n",
              "        <path d=\"M19 3H5c-1.1 0-2 .9-2 2v14c0 1.1.9 2 2 2h14c1.1 0 2-.9 2-2V5c0-1.1-.9-2-2-2zM9 17H7v-7h2v7zm4 0h-2V7h2v10zm4 0h-2v-4h2v4z\"/>\n",
              "    </g>\n",
              "</svg>\n",
              "  </button>\n",
              "\n",
              "<style>\n",
              "  .colab-df-quickchart {\n",
              "      --bg-color: #E8F0FE;\n",
              "      --fill-color: #1967D2;\n",
              "      --hover-bg-color: #E2EBFA;\n",
              "      --hover-fill-color: #174EA6;\n",
              "      --disabled-fill-color: #AAA;\n",
              "      --disabled-bg-color: #DDD;\n",
              "  }\n",
              "\n",
              "  [theme=dark] .colab-df-quickchart {\n",
              "      --bg-color: #3B4455;\n",
              "      --fill-color: #D2E3FC;\n",
              "      --hover-bg-color: #434B5C;\n",
              "      --hover-fill-color: #FFFFFF;\n",
              "      --disabled-bg-color: #3B4455;\n",
              "      --disabled-fill-color: #666;\n",
              "  }\n",
              "\n",
              "  .colab-df-quickchart {\n",
              "    background-color: var(--bg-color);\n",
              "    border: none;\n",
              "    border-radius: 50%;\n",
              "    cursor: pointer;\n",
              "    display: none;\n",
              "    fill: var(--fill-color);\n",
              "    height: 32px;\n",
              "    padding: 0;\n",
              "    width: 32px;\n",
              "  }\n",
              "\n",
              "  .colab-df-quickchart:hover {\n",
              "    background-color: var(--hover-bg-color);\n",
              "    box-shadow: 0 1px 2px rgba(60, 64, 67, 0.3), 0 1px 3px 1px rgba(60, 64, 67, 0.15);\n",
              "    fill: var(--button-hover-fill-color);\n",
              "  }\n",
              "\n",
              "  .colab-df-quickchart-complete:disabled,\n",
              "  .colab-df-quickchart-complete:disabled:hover {\n",
              "    background-color: var(--disabled-bg-color);\n",
              "    fill: var(--disabled-fill-color);\n",
              "    box-shadow: none;\n",
              "  }\n",
              "\n",
              "  .colab-df-spinner {\n",
              "    border: 2px solid var(--fill-color);\n",
              "    border-color: transparent;\n",
              "    border-bottom-color: var(--fill-color);\n",
              "    animation:\n",
              "      spin 1s steps(1) infinite;\n",
              "  }\n",
              "\n",
              "  @keyframes spin {\n",
              "    0% {\n",
              "      border-color: transparent;\n",
              "      border-bottom-color: var(--fill-color);\n",
              "      border-left-color: var(--fill-color);\n",
              "    }\n",
              "    20% {\n",
              "      border-color: transparent;\n",
              "      border-left-color: var(--fill-color);\n",
              "      border-top-color: var(--fill-color);\n",
              "    }\n",
              "    30% {\n",
              "      border-color: transparent;\n",
              "      border-left-color: var(--fill-color);\n",
              "      border-top-color: var(--fill-color);\n",
              "      border-right-color: var(--fill-color);\n",
              "    }\n",
              "    40% {\n",
              "      border-color: transparent;\n",
              "      border-right-color: var(--fill-color);\n",
              "      border-top-color: var(--fill-color);\n",
              "    }\n",
              "    60% {\n",
              "      border-color: transparent;\n",
              "      border-right-color: var(--fill-color);\n",
              "    }\n",
              "    80% {\n",
              "      border-color: transparent;\n",
              "      border-right-color: var(--fill-color);\n",
              "      border-bottom-color: var(--fill-color);\n",
              "    }\n",
              "    90% {\n",
              "      border-color: transparent;\n",
              "      border-bottom-color: var(--fill-color);\n",
              "    }\n",
              "  }\n",
              "</style>\n",
              "\n",
              "  <script>\n",
              "    async function quickchart(key) {\n",
              "      const quickchartButtonEl =\n",
              "        document.querySelector('#' + key + ' button');\n",
              "      quickchartButtonEl.disabled = true;  // To prevent multiple clicks.\n",
              "      quickchartButtonEl.classList.add('colab-df-spinner');\n",
              "      try {\n",
              "        const charts = await google.colab.kernel.invokeFunction(\n",
              "            'suggestCharts', [key], {});\n",
              "      } catch (error) {\n",
              "        console.error('Error during call to suggestCharts:', error);\n",
              "      }\n",
              "      quickchartButtonEl.classList.remove('colab-df-spinner');\n",
              "      quickchartButtonEl.classList.add('colab-df-quickchart-complete');\n",
              "    }\n",
              "    (() => {\n",
              "      let quickchartButtonEl =\n",
              "        document.querySelector('#df-16581be5-c9a8-43d8-9971-a9c7a070f822 button');\n",
              "      quickchartButtonEl.style.display =\n",
              "        google.colab.kernel.accessAllowed ? 'block' : 'none';\n",
              "    })();\n",
              "  </script>\n",
              "</div>\n",
              "\n",
              "    </div>\n",
              "  </div>\n"
            ],
            "application/vnd.google.colaboratory.intrinsic+json": {
              "type": "dataframe",
              "variable_name": "dataset",
              "summary": "{\n  \"name\": \"dataset\",\n  \"rows\": 2017,\n  \"fields\": [\n    {\n      \"column\": \"id\",\n      \"properties\": {\n        \"dtype\": \"number\",\n        \"std\": 582,\n        \"min\": 0,\n        \"max\": 2016,\n        \"num_unique_values\": 2017,\n        \"samples\": [\n          1555,\n          526,\n          393\n        ],\n        \"semantic_type\": \"\",\n        \"description\": \"\"\n      }\n    },\n    {\n      \"column\": \"acousticness\",\n      \"properties\": {\n        \"dtype\": \"number\",\n        \"std\": 0.25998925978484,\n        \"min\": 2.84e-06,\n        \"max\": 0.995,\n        \"num_unique_values\": 1394,\n        \"samples\": [\n          0.27,\n          0.00461,\n          0.0839\n        ],\n        \"semantic_type\": \"\",\n        \"description\": \"\"\n      }\n    },\n    {\n      \"column\": \"danceability\",\n      \"properties\": {\n        \"dtype\": \"number\",\n        \"std\": 0.16102896742175046,\n        \"min\": 0.122,\n        \"max\": 0.984,\n        \"num_unique_values\": 632,\n        \"samples\": [\n          0.874,\n          0.677,\n          0.504\n        ],\n        \"semantic_type\": \"\",\n        \"description\": \"\"\n      }\n    },\n    {\n      \"column\": \"duration_ms\",\n      \"properties\": {\n        \"dtype\": \"number\",\n        \"std\": 81981,\n        \"min\": 16042,\n        \"max\": 1004627,\n        \"num_unique_values\": 1921,\n        \"samples\": [\n          187813,\n          200677,\n          227327\n        ],\n        \"semantic_type\": \"\",\n        \"description\": \"\"\n      }\n    },\n    {\n      \"column\": \"energy\",\n      \"properties\": {\n        \"dtype\": \"number\",\n        \"std\": 0.21027300892392287,\n        \"min\": 0.0148,\n        \"max\": 0.998,\n        \"num_unique_values\": 719,\n        \"samples\": [\n          0.416,\n          0.901,\n          0.402\n        ],\n        \"semantic_type\": \"\",\n        \"description\": \"\"\n      }\n    },\n    {\n      \"column\": \"instrumentalness\",\n      \"properties\": {\n        \"dtype\": \"number\",\n        \"std\": 0.2731621791497382,\n        \"min\": 0.0,\n        \"max\": 0.976,\n        \"num_unique_values\": 1107,\n        \"samples\": [\n          0.84,\n          0.00055,\n          0.00155\n        ],\n        \"semantic_type\": \"\",\n        \"description\": \"\"\n      }\n    },\n    {\n      \"column\": \"key\",\n      \"properties\": {\n        \"dtype\": \"number\",\n        \"std\": 3,\n        \"min\": 0,\n        \"max\": 11,\n        \"num_unique_values\": 12,\n        \"samples\": [\n          4,\n          6,\n          2\n        ],\n        \"semantic_type\": \"\",\n        \"description\": \"\"\n      }\n    },\n    {\n      \"column\": \"liveness\",\n      \"properties\": {\n        \"dtype\": \"number\",\n        \"std\": 0.15545316501490128,\n        \"min\": 0.0188,\n        \"max\": 0.969,\n        \"num_unique_values\": 793,\n        \"samples\": [\n          0.0832,\n          0.382,\n          0.0465\n        ],\n        \"semantic_type\": \"\",\n        \"description\": \"\"\n      }\n    },\n    {\n      \"column\": \"loudness\",\n      \"properties\": {\n        \"dtype\": \"number\",\n        \"std\": 3.761684274618797,\n        \"min\": -33.097,\n        \"max\": -0.307,\n        \"num_unique_values\": 1808,\n        \"samples\": [\n          -4.639,\n          -7.83,\n          -5.749\n        ],\n        \"semantic_type\": \"\",\n        \"description\": \"\"\n      }\n    },\n    {\n      \"column\": \"mode\",\n      \"properties\": {\n        \"dtype\": \"number\",\n        \"std\": 0,\n        \"min\": 0,\n        \"max\": 1,\n        \"num_unique_values\": 2,\n        \"samples\": [\n          0,\n          1\n        ],\n        \"semantic_type\": \"\",\n        \"description\": \"\"\n      }\n    },\n    {\n      \"column\": \"speechiness\",\n      \"properties\": {\n        \"dtype\": \"number\",\n        \"std\": 0.08993146446017325,\n        \"min\": 0.0231,\n        \"max\": 0.816,\n        \"num_unique_values\": 792,\n        \"samples\": [\n          0.0901,\n          0.0325\n        ],\n        \"semantic_type\": \"\",\n        \"description\": \"\"\n      }\n    },\n    {\n      \"column\": \"tempo\",\n      \"properties\": {\n        \"dtype\": \"number\",\n        \"std\": 26.685603730436636,\n        \"min\": 47.859,\n        \"max\": 219.331,\n        \"num_unique_values\": 1919,\n        \"samples\": [\n          126.112,\n          123.036\n        ],\n        \"semantic_type\": \"\",\n        \"description\": \"\"\n      }\n    },\n    {\n      \"column\": \"time_signature\",\n      \"properties\": {\n        \"dtype\": \"number\",\n        \"std\": 0.2558533624848524,\n        \"min\": 1.0,\n        \"max\": 5.0,\n        \"num_unique_values\": 4,\n        \"samples\": [\n          3.0,\n          1.0\n        ],\n        \"semantic_type\": \"\",\n        \"description\": \"\"\n      }\n    },\n    {\n      \"column\": \"valence\",\n      \"properties\": {\n        \"dtype\": \"number\",\n        \"std\": 0.24719546872735612,\n        \"min\": 0.0348,\n        \"max\": 0.992,\n        \"num_unique_values\": 853,\n        \"samples\": [\n          0.361,\n          0.306\n        ],\n        \"semantic_type\": \"\",\n        \"description\": \"\"\n      }\n    },\n    {\n      \"column\": \"song_title\",\n      \"properties\": {\n        \"dtype\": \"string\",\n        \"num_unique_values\": 1956,\n        \"samples\": [\n          \"Morning Call - Remix Version\",\n          \"All My Life\"\n        ],\n        \"semantic_type\": \"\",\n        \"description\": \"\"\n      }\n    },\n    {\n      \"column\": \"artist\",\n      \"properties\": {\n        \"dtype\": \"string\",\n        \"num_unique_values\": 1343,\n        \"samples\": [\n          \"Mallary Hope\",\n          \"Patrick Di Stefano\"\n        ],\n        \"semantic_type\": \"\",\n        \"description\": \"\"\n      }\n    }\n  ]\n}"
            }
          },
          "metadata": {},
          "execution_count": 30
        }
      ]
    },
    {
      "cell_type": "code",
      "source": [
        "#remove colunas desnecessarias\n",
        "def remove_features(lista_features):\n",
        "  for i in lista_features:\n",
        "    dataset.drop(i,axis=1,inplace=True)\n",
        "  return 0"
      ],
      "metadata": {
        "id": "r8X5kZN9BaI5"
      },
      "execution_count": 31,
      "outputs": []
    },
    {
      "cell_type": "code",
      "source": [
        "remove_features(['id','song_title'])"
      ],
      "metadata": {
        "colab": {
          "base_uri": "https://localhost:8080/"
        },
        "id": "spypsVvtBoFY",
        "outputId": "1532ecb0-d13c-42e8-ad43-38215ac3a59d"
      },
      "execution_count": 32,
      "outputs": [
        {
          "output_type": "execute_result",
          "data": {
            "text/plain": [
              "0"
            ]
          },
          "metadata": {},
          "execution_count": 32
        }
      ]
    },
    {
      "cell_type": "code",
      "source": [
        "dataset.head()"
      ],
      "metadata": {
        "colab": {
          "base_uri": "https://localhost:8080/",
          "height": 206
        },
        "id": "m05QXji2B2AQ",
        "outputId": "f86544ae-fcca-4df0-fcf6-ac0dedf04263"
      },
      "execution_count": null,
      "outputs": [
        {
          "output_type": "execute_result",
          "data": {
            "text/plain": [
              "   acousticness  danceability  duration_ms  energy  instrumentalness  key  \\\n",
              "0        0.0102         0.833       204600   0.434          0.021900    2   \n",
              "1        0.1990         0.743       326933   0.359          0.006110    1   \n",
              "2        0.0344         0.838       185707   0.412          0.000234    2   \n",
              "3        0.6040         0.494       199413   0.338          0.510000    5   \n",
              "4        0.1800         0.678       392893   0.561          0.512000    5   \n",
              "\n",
              "   liveness  loudness  mode  speechiness    tempo  time_signature  valence  \\\n",
              "0    0.1650    -8.795     1       0.4310  150.062             4.0    0.286   \n",
              "1    0.1370   -10.401     1       0.0794  160.083             4.0    0.588   \n",
              "2    0.1590    -7.148     1       0.2890   75.044             4.0    0.173   \n",
              "3    0.0922   -15.236     1       0.0261   86.468             4.0    0.230   \n",
              "4    0.4390   -11.648     0       0.0694  174.004             4.0    0.904   \n",
              "\n",
              "             artist  \n",
              "0            Future  \n",
              "1  Childish Gambino  \n",
              "2            Future  \n",
              "3       Beach House  \n",
              "4       Junior Boys  "
            ],
            "text/html": [
              "\n",
              "  <div id=\"df-16b37173-287d-4ef3-a620-d88470f84018\" class=\"colab-df-container\">\n",
              "    <div>\n",
              "<style scoped>\n",
              "    .dataframe tbody tr th:only-of-type {\n",
              "        vertical-align: middle;\n",
              "    }\n",
              "\n",
              "    .dataframe tbody tr th {\n",
              "        vertical-align: top;\n",
              "    }\n",
              "\n",
              "    .dataframe thead th {\n",
              "        text-align: right;\n",
              "    }\n",
              "</style>\n",
              "<table border=\"1\" class=\"dataframe\">\n",
              "  <thead>\n",
              "    <tr style=\"text-align: right;\">\n",
              "      <th></th>\n",
              "      <th>acousticness</th>\n",
              "      <th>danceability</th>\n",
              "      <th>duration_ms</th>\n",
              "      <th>energy</th>\n",
              "      <th>instrumentalness</th>\n",
              "      <th>key</th>\n",
              "      <th>liveness</th>\n",
              "      <th>loudness</th>\n",
              "      <th>mode</th>\n",
              "      <th>speechiness</th>\n",
              "      <th>tempo</th>\n",
              "      <th>time_signature</th>\n",
              "      <th>valence</th>\n",
              "      <th>artist</th>\n",
              "    </tr>\n",
              "  </thead>\n",
              "  <tbody>\n",
              "    <tr>\n",
              "      <th>0</th>\n",
              "      <td>0.0102</td>\n",
              "      <td>0.833</td>\n",
              "      <td>204600</td>\n",
              "      <td>0.434</td>\n",
              "      <td>0.021900</td>\n",
              "      <td>2</td>\n",
              "      <td>0.1650</td>\n",
              "      <td>-8.795</td>\n",
              "      <td>1</td>\n",
              "      <td>0.4310</td>\n",
              "      <td>150.062</td>\n",
              "      <td>4.0</td>\n",
              "      <td>0.286</td>\n",
              "      <td>Future</td>\n",
              "    </tr>\n",
              "    <tr>\n",
              "      <th>1</th>\n",
              "      <td>0.1990</td>\n",
              "      <td>0.743</td>\n",
              "      <td>326933</td>\n",
              "      <td>0.359</td>\n",
              "      <td>0.006110</td>\n",
              "      <td>1</td>\n",
              "      <td>0.1370</td>\n",
              "      <td>-10.401</td>\n",
              "      <td>1</td>\n",
              "      <td>0.0794</td>\n",
              "      <td>160.083</td>\n",
              "      <td>4.0</td>\n",
              "      <td>0.588</td>\n",
              "      <td>Childish Gambino</td>\n",
              "    </tr>\n",
              "    <tr>\n",
              "      <th>2</th>\n",
              "      <td>0.0344</td>\n",
              "      <td>0.838</td>\n",
              "      <td>185707</td>\n",
              "      <td>0.412</td>\n",
              "      <td>0.000234</td>\n",
              "      <td>2</td>\n",
              "      <td>0.1590</td>\n",
              "      <td>-7.148</td>\n",
              "      <td>1</td>\n",
              "      <td>0.2890</td>\n",
              "      <td>75.044</td>\n",
              "      <td>4.0</td>\n",
              "      <td>0.173</td>\n",
              "      <td>Future</td>\n",
              "    </tr>\n",
              "    <tr>\n",
              "      <th>3</th>\n",
              "      <td>0.6040</td>\n",
              "      <td>0.494</td>\n",
              "      <td>199413</td>\n",
              "      <td>0.338</td>\n",
              "      <td>0.510000</td>\n",
              "      <td>5</td>\n",
              "      <td>0.0922</td>\n",
              "      <td>-15.236</td>\n",
              "      <td>1</td>\n",
              "      <td>0.0261</td>\n",
              "      <td>86.468</td>\n",
              "      <td>4.0</td>\n",
              "      <td>0.230</td>\n",
              "      <td>Beach House</td>\n",
              "    </tr>\n",
              "    <tr>\n",
              "      <th>4</th>\n",
              "      <td>0.1800</td>\n",
              "      <td>0.678</td>\n",
              "      <td>392893</td>\n",
              "      <td>0.561</td>\n",
              "      <td>0.512000</td>\n",
              "      <td>5</td>\n",
              "      <td>0.4390</td>\n",
              "      <td>-11.648</td>\n",
              "      <td>0</td>\n",
              "      <td>0.0694</td>\n",
              "      <td>174.004</td>\n",
              "      <td>4.0</td>\n",
              "      <td>0.904</td>\n",
              "      <td>Junior Boys</td>\n",
              "    </tr>\n",
              "  </tbody>\n",
              "</table>\n",
              "</div>\n",
              "    <div class=\"colab-df-buttons\">\n",
              "\n",
              "  <div class=\"colab-df-container\">\n",
              "    <button class=\"colab-df-convert\" onclick=\"convertToInteractive('df-16b37173-287d-4ef3-a620-d88470f84018')\"\n",
              "            title=\"Convert this dataframe to an interactive table.\"\n",
              "            style=\"display:none;\">\n",
              "\n",
              "  <svg xmlns=\"http://www.w3.org/2000/svg\" height=\"24px\" viewBox=\"0 -960 960 960\">\n",
              "    <path d=\"M120-120v-720h720v720H120Zm60-500h600v-160H180v160Zm220 220h160v-160H400v160Zm0 220h160v-160H400v160ZM180-400h160v-160H180v160Zm440 0h160v-160H620v160ZM180-180h160v-160H180v160Zm440 0h160v-160H620v160Z\"/>\n",
              "  </svg>\n",
              "    </button>\n",
              "\n",
              "  <style>\n",
              "    .colab-df-container {\n",
              "      display:flex;\n",
              "      gap: 12px;\n",
              "    }\n",
              "\n",
              "    .colab-df-convert {\n",
              "      background-color: #E8F0FE;\n",
              "      border: none;\n",
              "      border-radius: 50%;\n",
              "      cursor: pointer;\n",
              "      display: none;\n",
              "      fill: #1967D2;\n",
              "      height: 32px;\n",
              "      padding: 0 0 0 0;\n",
              "      width: 32px;\n",
              "    }\n",
              "\n",
              "    .colab-df-convert:hover {\n",
              "      background-color: #E2EBFA;\n",
              "      box-shadow: 0px 1px 2px rgba(60, 64, 67, 0.3), 0px 1px 3px 1px rgba(60, 64, 67, 0.15);\n",
              "      fill: #174EA6;\n",
              "    }\n",
              "\n",
              "    .colab-df-buttons div {\n",
              "      margin-bottom: 4px;\n",
              "    }\n",
              "\n",
              "    [theme=dark] .colab-df-convert {\n",
              "      background-color: #3B4455;\n",
              "      fill: #D2E3FC;\n",
              "    }\n",
              "\n",
              "    [theme=dark] .colab-df-convert:hover {\n",
              "      background-color: #434B5C;\n",
              "      box-shadow: 0px 1px 3px 1px rgba(0, 0, 0, 0.15);\n",
              "      filter: drop-shadow(0px 1px 2px rgba(0, 0, 0, 0.3));\n",
              "      fill: #FFFFFF;\n",
              "    }\n",
              "  </style>\n",
              "\n",
              "    <script>\n",
              "      const buttonEl =\n",
              "        document.querySelector('#df-16b37173-287d-4ef3-a620-d88470f84018 button.colab-df-convert');\n",
              "      buttonEl.style.display =\n",
              "        google.colab.kernel.accessAllowed ? 'block' : 'none';\n",
              "\n",
              "      async function convertToInteractive(key) {\n",
              "        const element = document.querySelector('#df-16b37173-287d-4ef3-a620-d88470f84018');\n",
              "        const dataTable =\n",
              "          await google.colab.kernel.invokeFunction('convertToInteractive',\n",
              "                                                    [key], {});\n",
              "        if (!dataTable) return;\n",
              "\n",
              "        const docLinkHtml = 'Like what you see? Visit the ' +\n",
              "          '<a target=\"_blank\" href=https://colab.research.google.com/notebooks/data_table.ipynb>data table notebook</a>'\n",
              "          + ' to learn more about interactive tables.';\n",
              "        element.innerHTML = '';\n",
              "        dataTable['output_type'] = 'display_data';\n",
              "        await google.colab.output.renderOutput(dataTable, element);\n",
              "        const docLink = document.createElement('div');\n",
              "        docLink.innerHTML = docLinkHtml;\n",
              "        element.appendChild(docLink);\n",
              "      }\n",
              "    </script>\n",
              "  </div>\n",
              "\n",
              "\n",
              "<div id=\"df-965bfc8b-9617-4410-a6ed-c7412d5ce67d\">\n",
              "  <button class=\"colab-df-quickchart\" onclick=\"quickchart('df-965bfc8b-9617-4410-a6ed-c7412d5ce67d')\"\n",
              "            title=\"Suggest charts\"\n",
              "            style=\"display:none;\">\n",
              "\n",
              "<svg xmlns=\"http://www.w3.org/2000/svg\" height=\"24px\"viewBox=\"0 0 24 24\"\n",
              "     width=\"24px\">\n",
              "    <g>\n",
              "        <path d=\"M19 3H5c-1.1 0-2 .9-2 2v14c0 1.1.9 2 2 2h14c1.1 0 2-.9 2-2V5c0-1.1-.9-2-2-2zM9 17H7v-7h2v7zm4 0h-2V7h2v10zm4 0h-2v-4h2v4z\"/>\n",
              "    </g>\n",
              "</svg>\n",
              "  </button>\n",
              "\n",
              "<style>\n",
              "  .colab-df-quickchart {\n",
              "      --bg-color: #E8F0FE;\n",
              "      --fill-color: #1967D2;\n",
              "      --hover-bg-color: #E2EBFA;\n",
              "      --hover-fill-color: #174EA6;\n",
              "      --disabled-fill-color: #AAA;\n",
              "      --disabled-bg-color: #DDD;\n",
              "  }\n",
              "\n",
              "  [theme=dark] .colab-df-quickchart {\n",
              "      --bg-color: #3B4455;\n",
              "      --fill-color: #D2E3FC;\n",
              "      --hover-bg-color: #434B5C;\n",
              "      --hover-fill-color: #FFFFFF;\n",
              "      --disabled-bg-color: #3B4455;\n",
              "      --disabled-fill-color: #666;\n",
              "  }\n",
              "\n",
              "  .colab-df-quickchart {\n",
              "    background-color: var(--bg-color);\n",
              "    border: none;\n",
              "    border-radius: 50%;\n",
              "    cursor: pointer;\n",
              "    display: none;\n",
              "    fill: var(--fill-color);\n",
              "    height: 32px;\n",
              "    padding: 0;\n",
              "    width: 32px;\n",
              "  }\n",
              "\n",
              "  .colab-df-quickchart:hover {\n",
              "    background-color: var(--hover-bg-color);\n",
              "    box-shadow: 0 1px 2px rgba(60, 64, 67, 0.3), 0 1px 3px 1px rgba(60, 64, 67, 0.15);\n",
              "    fill: var(--button-hover-fill-color);\n",
              "  }\n",
              "\n",
              "  .colab-df-quickchart-complete:disabled,\n",
              "  .colab-df-quickchart-complete:disabled:hover {\n",
              "    background-color: var(--disabled-bg-color);\n",
              "    fill: var(--disabled-fill-color);\n",
              "    box-shadow: none;\n",
              "  }\n",
              "\n",
              "  .colab-df-spinner {\n",
              "    border: 2px solid var(--fill-color);\n",
              "    border-color: transparent;\n",
              "    border-bottom-color: var(--fill-color);\n",
              "    animation:\n",
              "      spin 1s steps(1) infinite;\n",
              "  }\n",
              "\n",
              "  @keyframes spin {\n",
              "    0% {\n",
              "      border-color: transparent;\n",
              "      border-bottom-color: var(--fill-color);\n",
              "      border-left-color: var(--fill-color);\n",
              "    }\n",
              "    20% {\n",
              "      border-color: transparent;\n",
              "      border-left-color: var(--fill-color);\n",
              "      border-top-color: var(--fill-color);\n",
              "    }\n",
              "    30% {\n",
              "      border-color: transparent;\n",
              "      border-left-color: var(--fill-color);\n",
              "      border-top-color: var(--fill-color);\n",
              "      border-right-color: var(--fill-color);\n",
              "    }\n",
              "    40% {\n",
              "      border-color: transparent;\n",
              "      border-right-color: var(--fill-color);\n",
              "      border-top-color: var(--fill-color);\n",
              "    }\n",
              "    60% {\n",
              "      border-color: transparent;\n",
              "      border-right-color: var(--fill-color);\n",
              "    }\n",
              "    80% {\n",
              "      border-color: transparent;\n",
              "      border-right-color: var(--fill-color);\n",
              "      border-bottom-color: var(--fill-color);\n",
              "    }\n",
              "    90% {\n",
              "      border-color: transparent;\n",
              "      border-bottom-color: var(--fill-color);\n",
              "    }\n",
              "  }\n",
              "</style>\n",
              "\n",
              "  <script>\n",
              "    async function quickchart(key) {\n",
              "      const quickchartButtonEl =\n",
              "        document.querySelector('#' + key + ' button');\n",
              "      quickchartButtonEl.disabled = true;  // To prevent multiple clicks.\n",
              "      quickchartButtonEl.classList.add('colab-df-spinner');\n",
              "      try {\n",
              "        const charts = await google.colab.kernel.invokeFunction(\n",
              "            'suggestCharts', [key], {});\n",
              "      } catch (error) {\n",
              "        console.error('Error during call to suggestCharts:', error);\n",
              "      }\n",
              "      quickchartButtonEl.classList.remove('colab-df-spinner');\n",
              "      quickchartButtonEl.classList.add('colab-df-quickchart-complete');\n",
              "    }\n",
              "    (() => {\n",
              "      let quickchartButtonEl =\n",
              "        document.querySelector('#df-965bfc8b-9617-4410-a6ed-c7412d5ce67d button');\n",
              "      quickchartButtonEl.style.display =\n",
              "        google.colab.kernel.accessAllowed ? 'block' : 'none';\n",
              "    })();\n",
              "  </script>\n",
              "</div>\n",
              "\n",
              "    </div>\n",
              "  </div>\n"
            ],
            "application/vnd.google.colaboratory.intrinsic+json": {
              "type": "dataframe",
              "variable_name": "dataset",
              "summary": "{\n  \"name\": \"dataset\",\n  \"rows\": 2017,\n  \"fields\": [\n    {\n      \"column\": \"acousticness\",\n      \"properties\": {\n        \"dtype\": \"number\",\n        \"std\": 0.25998925978484,\n        \"min\": 2.84e-06,\n        \"max\": 0.995,\n        \"num_unique_values\": 1394,\n        \"samples\": [\n          0.27,\n          0.00461,\n          0.0839\n        ],\n        \"semantic_type\": \"\",\n        \"description\": \"\"\n      }\n    },\n    {\n      \"column\": \"danceability\",\n      \"properties\": {\n        \"dtype\": \"number\",\n        \"std\": 0.16102896742175046,\n        \"min\": 0.122,\n        \"max\": 0.984,\n        \"num_unique_values\": 632,\n        \"samples\": [\n          0.874,\n          0.677,\n          0.504\n        ],\n        \"semantic_type\": \"\",\n        \"description\": \"\"\n      }\n    },\n    {\n      \"column\": \"duration_ms\",\n      \"properties\": {\n        \"dtype\": \"number\",\n        \"std\": 81981,\n        \"min\": 16042,\n        \"max\": 1004627,\n        \"num_unique_values\": 1921,\n        \"samples\": [\n          187813,\n          200677,\n          227327\n        ],\n        \"semantic_type\": \"\",\n        \"description\": \"\"\n      }\n    },\n    {\n      \"column\": \"energy\",\n      \"properties\": {\n        \"dtype\": \"number\",\n        \"std\": 0.21027300892392287,\n        \"min\": 0.0148,\n        \"max\": 0.998,\n        \"num_unique_values\": 719,\n        \"samples\": [\n          0.416,\n          0.901,\n          0.402\n        ],\n        \"semantic_type\": \"\",\n        \"description\": \"\"\n      }\n    },\n    {\n      \"column\": \"instrumentalness\",\n      \"properties\": {\n        \"dtype\": \"number\",\n        \"std\": 0.2731621791497382,\n        \"min\": 0.0,\n        \"max\": 0.976,\n        \"num_unique_values\": 1107,\n        \"samples\": [\n          0.84,\n          0.00055,\n          0.00155\n        ],\n        \"semantic_type\": \"\",\n        \"description\": \"\"\n      }\n    },\n    {\n      \"column\": \"key\",\n      \"properties\": {\n        \"dtype\": \"number\",\n        \"std\": 3,\n        \"min\": 0,\n        \"max\": 11,\n        \"num_unique_values\": 12,\n        \"samples\": [\n          4,\n          6,\n          2\n        ],\n        \"semantic_type\": \"\",\n        \"description\": \"\"\n      }\n    },\n    {\n      \"column\": \"liveness\",\n      \"properties\": {\n        \"dtype\": \"number\",\n        \"std\": 0.15545316501490128,\n        \"min\": 0.0188,\n        \"max\": 0.969,\n        \"num_unique_values\": 793,\n        \"samples\": [\n          0.0832,\n          0.382,\n          0.0465\n        ],\n        \"semantic_type\": \"\",\n        \"description\": \"\"\n      }\n    },\n    {\n      \"column\": \"loudness\",\n      \"properties\": {\n        \"dtype\": \"number\",\n        \"std\": 3.761684274618797,\n        \"min\": -33.097,\n        \"max\": -0.307,\n        \"num_unique_values\": 1808,\n        \"samples\": [\n          -4.639,\n          -7.83,\n          -5.749\n        ],\n        \"semantic_type\": \"\",\n        \"description\": \"\"\n      }\n    },\n    {\n      \"column\": \"mode\",\n      \"properties\": {\n        \"dtype\": \"number\",\n        \"std\": 0,\n        \"min\": 0,\n        \"max\": 1,\n        \"num_unique_values\": 2,\n        \"samples\": [\n          0,\n          1\n        ],\n        \"semantic_type\": \"\",\n        \"description\": \"\"\n      }\n    },\n    {\n      \"column\": \"speechiness\",\n      \"properties\": {\n        \"dtype\": \"number\",\n        \"std\": 0.08993146446017325,\n        \"min\": 0.0231,\n        \"max\": 0.816,\n        \"num_unique_values\": 792,\n        \"samples\": [\n          0.0901,\n          0.0325\n        ],\n        \"semantic_type\": \"\",\n        \"description\": \"\"\n      }\n    },\n    {\n      \"column\": \"tempo\",\n      \"properties\": {\n        \"dtype\": \"number\",\n        \"std\": 26.685603730436636,\n        \"min\": 47.859,\n        \"max\": 219.331,\n        \"num_unique_values\": 1919,\n        \"samples\": [\n          126.112,\n          123.036\n        ],\n        \"semantic_type\": \"\",\n        \"description\": \"\"\n      }\n    },\n    {\n      \"column\": \"time_signature\",\n      \"properties\": {\n        \"dtype\": \"number\",\n        \"std\": 0.2558533624848524,\n        \"min\": 1.0,\n        \"max\": 5.0,\n        \"num_unique_values\": 4,\n        \"samples\": [\n          3.0,\n          1.0\n        ],\n        \"semantic_type\": \"\",\n        \"description\": \"\"\n      }\n    },\n    {\n      \"column\": \"valence\",\n      \"properties\": {\n        \"dtype\": \"number\",\n        \"std\": 0.24719546872735612,\n        \"min\": 0.0348,\n        \"max\": 0.992,\n        \"num_unique_values\": 853,\n        \"samples\": [\n          0.361,\n          0.306\n        ],\n        \"semantic_type\": \"\",\n        \"description\": \"\"\n      }\n    },\n    {\n      \"column\": \"artist\",\n      \"properties\": {\n        \"dtype\": \"string\",\n        \"num_unique_values\": 1343,\n        \"samples\": [\n          \"Mallary Hope\",\n          \"Patrick Di Stefano\"\n        ],\n        \"semantic_type\": \"\",\n        \"description\": \"\"\n      }\n    }\n  ]\n}"
            }
          },
          "metadata": {},
          "execution_count": 20
        }
      ]
    },
    {
      "cell_type": "markdown",
      "source": [
        "# label encoder\n",
        "\n",
        "codificar valores categoricos em numericos\n",
        "\n",
        "svm n aceita valores categoricos"
      ],
      "metadata": {
        "id": "JpiS0RHZCimH"
      }
    },
    {
      "cell_type": "code",
      "source": [
        "from sklearn.preprocessing import LabelEncoder"
      ],
      "metadata": {
        "id": "q2m5Ezy_B6yv"
      },
      "execution_count": 24,
      "outputs": []
    },
    {
      "cell_type": "code",
      "source": [
        "#objeto capz de treinar os dados e fazer a classificacao\n",
        "enc =LabelEncoder()"
      ],
      "metadata": {
        "id": "blbSzIUNC6r8"
      },
      "execution_count": 25,
      "outputs": []
    },
    {
      "cell_type": "code",
      "source": [
        "#criar o codigo de cada valor unico dos artistas\n",
        "inteiros=enc.fit_transform(dataset['artist'])"
      ],
      "metadata": {
        "id": "1xSktI14DjbN"
      },
      "execution_count": 26,
      "outputs": []
    },
    {
      "cell_type": "code",
      "source": [
        "set(inteiros)"
      ],
      "metadata": {
        "id": "m28JLsMND9Bs"
      },
      "execution_count": null,
      "outputs": []
    },
    {
      "cell_type": "code",
      "source": [
        "dataset['artist_inteiros']=inteiros"
      ],
      "metadata": {
        "id": "Fc2Jp2OZD_Ur"
      },
      "execution_count": 36,
      "outputs": []
    },
    {
      "cell_type": "code",
      "source": [
        "remove_features(['artist'])"
      ],
      "metadata": {
        "colab": {
          "base_uri": "https://localhost:8080/"
        },
        "id": "igA5wOLgENsh",
        "outputId": "849abcb4-f2dc-4cb7-a2e9-cd5881fd59a7"
      },
      "execution_count": 37,
      "outputs": [
        {
          "output_type": "execute_result",
          "data": {
            "text/plain": [
              "0"
            ]
          },
          "metadata": {},
          "execution_count": 37
        }
      ]
    },
    {
      "cell_type": "markdown",
      "source": [
        "#One hot encoding\n",
        "\n",
        "\n"
      ],
      "metadata": {
        "id": "DC0FgfVsEjBR"
      }
    },
    {
      "cell_type": "code",
      "source": [
        "from sklearn.preprocessing import OneHotEncoder"
      ],
      "metadata": {
        "id": "UNv6latpHqoT"
      },
      "execution_count": null,
      "outputs": []
    },
    {
      "cell_type": "code",
      "source": [
        "ohe=OneHotEncoder()"
      ],
      "metadata": {
        "id": "Ii0zORf1HuvR"
      },
      "execution_count": null,
      "outputs": []
    },
    {
      "cell_type": "code",
      "source": [
        "# Apaque a coluna 'Artist'\n",
        "remove_features(['artist'])\n"
      ],
      "metadata": {
        "id": "BxSyC_MWHx25"
      },
      "execution_count": null,
      "outputs": []
    },
    {
      "cell_type": "code",
      "source": [
        "# Importa o pacote OneHotEncoder\n",
        "from sklearn.preprocessing import OneHotEncoder"
      ],
      "metadata": {
        "id": "qoEBIKu-kFA5"
      },
      "execution_count": null,
      "outputs": []
    },
    {
      "cell_type": "code",
      "source": [
        "# Instancia um objeto do tipo OnehotEncoder\n",
        "ohe = OneHotEncoder()\n",
        "dataset.values"
      ],
      "metadata": {
        "id": "t_-9XjemkGBh"
      },
      "execution_count": null,
      "outputs": []
    },
    {
      "cell_type": "code",
      "source": [
        "# Transforma em arrayn numpy o dataset.\n",
        "dataset_array = dataset.values"
      ],
      "metadata": {
        "id": "XZB0EbwwkHO4"
      },
      "execution_count": null,
      "outputs": []
    },
    {
      "cell_type": "code",
      "source": [
        "# Pega o numero de linhas.\n",
        "num_rows = dataset_array.shape[0]"
      ],
      "metadata": {
        "id": "3SDOMI5TkIXY"
      },
      "execution_count": null,
      "outputs": []
    },
    {
      "cell_type": "code",
      "source": [
        "# Visualiza coluna de inteiros\n",
        "dataset_array[:][:,13]"
      ],
      "metadata": {
        "id": "YZ4FkRENkOVo"
      },
      "execution_count": null,
      "outputs": []
    },
    {
      "cell_type": "code",
      "source": [
        "# Transforma a matriz em uma dimensão\n",
        "inteiros = inteiros.reshape(len(inteiros),1)"
      ],
      "metadata": {
        "id": "A0F98DockQGI"
      },
      "execution_count": null,
      "outputs": []
    },
    {
      "cell_type": "code",
      "source": [
        "# Criar as novas features a partir da matriz de presença\n",
        "novas_features = ohe.fit_transform(inteiros)"
      ],
      "metadata": {
        "id": "VZ6unvlkkQAJ"
      },
      "execution_count": null,
      "outputs": []
    },
    {
      "cell_type": "code",
      "source": [
        "novas_features\n",
        "# Concatena as novas features ao array\n",
        "dataset_array = np.concatenate([dataset_array, novas_features.toarray()], axis=1)\n",
        "dataset_array.shape"
      ],
      "metadata": {
        "id": "XGLIQ7oRkP6Q"
      },
      "execution_count": null,
      "outputs": []
    },
    {
      "cell_type": "code",
      "source": [
        "# Transforma em dataframe e visualiza as colunas\n",
        "dataf = pd.DataFrame(dataset_array)\n",
        "dataf.head(100)"
      ],
      "metadata": {
        "id": "E7VV7WLLkP0Q"
      },
      "execution_count": null,
      "outputs": []
    },
    {
      "cell_type": "markdown",
      "source": [
        "#Get dummies"
      ],
      "metadata": {
        "id": "OBYZDlhAkcJV"
      }
    },
    {
      "cell_type": "code",
      "source": [
        "dataset = pd.get_dummies(dataset, columns=['artist'], prefix=['artist'])\n",
        "dataset.columns"
      ],
      "metadata": {
        "id": "t0YxFp2skejw",
        "colab": {
          "base_uri": "https://localhost:8080/"
        },
        "outputId": "90c45155-54fc-4596-a58b-39f7b577180e"
      },
      "execution_count": 7,
      "outputs": [
        {
          "output_type": "execute_result",
          "data": {
            "text/plain": [
              "Index(['acousticness', 'danceability', 'duration_ms', 'energy',\n",
              "       'instrumentalness', 'key', 'liveness', 'loudness', 'mode',\n",
              "       'speechiness',\n",
              "       ...\n",
              "       'artist_alt-J', 'artist_deadmau5', 'artist_for KING & COUNTRY',\n",
              "       'artist_one sonic society', 'artist_tUnE-yArDs', 'artist_tobyMac',\n",
              "       'artist_권나무 Kwon Tree', 'artist_도시총각 Dosichonggak',\n",
              "       'artist_카우칩스 The CowChips', 'artist_플랫핏 Flat Feet'],\n",
              "      dtype='object', length=1356)"
            ]
          },
          "metadata": {},
          "execution_count": 7
        }
      ]
    },
    {
      "cell_type": "code",
      "source": [
        "len(dataset.columns)"
      ],
      "metadata": {
        "id": "lDko0OEFkwPJ",
        "colab": {
          "base_uri": "https://localhost:8080/"
        },
        "outputId": "30fd39ec-4ea9-4cef-e263-9df1dbc7ca14"
      },
      "execution_count": 8,
      "outputs": [
        {
          "output_type": "execute_result",
          "data": {
            "text/plain": [
              "1356"
            ]
          },
          "metadata": {},
          "execution_count": 8
        }
      ]
    },
    {
      "cell_type": "code",
      "source": [
        "dataset.dtypes"
      ],
      "metadata": {
        "id": "misIub0lkwMo",
        "colab": {
          "base_uri": "https://localhost:8080/"
        },
        "outputId": "f9afa65b-5d06-4722-acd7-bf3ccef8471e"
      },
      "execution_count": 9,
      "outputs": [
        {
          "output_type": "execute_result",
          "data": {
            "text/plain": [
              "acousticness                float64\n",
              "danceability                float64\n",
              "duration_ms                   int64\n",
              "energy                      float64\n",
              "instrumentalness            float64\n",
              "                             ...   \n",
              "artist_tobyMac                 bool\n",
              "artist_권나무 Kwon Tree           bool\n",
              "artist_도시총각 Dosichonggak       bool\n",
              "artist_카우칩스 The CowChips       bool\n",
              "artist_플랫핏 Flat Feet           bool\n",
              "Length: 1356, dtype: object"
            ]
          },
          "metadata": {},
          "execution_count": 9
        }
      ]
    },
    {
      "cell_type": "code",
      "source": [
        "dataset.isnull().sum()"
      ],
      "metadata": {
        "id": "9thAG_kikwKA"
      },
      "execution_count": null,
      "outputs": []
    },
    {
      "cell_type": "code",
      "source": [
        "# coluna artist\n",
        "len(dataset.columns)"
      ],
      "metadata": {
        "id": "UK_WRs9xk0LN"
      },
      "execution_count": null,
      "outputs": []
    },
    {
      "cell_type": "markdown",
      "source": [
        "#pipeline\n"
      ],
      "metadata": {
        "id": "0btRoGRboBCN"
      }
    },
    {
      "cell_type": "code",
      "source": [
        "from sklearn.pipeline import Pipeline\n",
        "from sklearn.preprocessing import StandardScaler\n",
        "from sklearn.preprocessing import MinMaxScaler\n",
        "from sklearn import svm\n",
        "from sklearn.model_selection import cross_val_predict\n",
        "from sklearn import metrics"
      ],
      "metadata": {
        "id": "m9XafyxroCQB"
      },
      "execution_count": 16,
      "outputs": []
    },
    {
      "cell_type": "code",
      "source": [
        "classes"
      ],
      "metadata": {
        "id": "lpGrkD03oYOV"
      },
      "execution_count": null,
      "outputs": []
    },
    {
      "cell_type": "code",
      "source": [
        "clf=svm.SVC().fit(dataset,classes)"
      ],
      "metadata": {
        "id": "aNx0pNzSqr1i"
      },
      "execution_count": 38,
      "outputs": []
    },
    {
      "cell_type": "code",
      "source": [
        "clf"
      ],
      "metadata": {
        "colab": {
          "base_uri": "https://localhost:8080/",
          "height": 75
        },
        "id": "RHouu-6hqyAi",
        "outputId": "ecc2b643-7a49-40a3-c069-00e1b210e907"
      },
      "execution_count": 15,
      "outputs": [
        {
          "output_type": "execute_result",
          "data": {
            "text/plain": [
              "SVC()"
            ],
            "text/html": [
              "<style>#sk-container-id-1 {color: black;background-color: white;}#sk-container-id-1 pre{padding: 0;}#sk-container-id-1 div.sk-toggleable {background-color: white;}#sk-container-id-1 label.sk-toggleable__label {cursor: pointer;display: block;width: 100%;margin-bottom: 0;padding: 0.3em;box-sizing: border-box;text-align: center;}#sk-container-id-1 label.sk-toggleable__label-arrow:before {content: \"▸\";float: left;margin-right: 0.25em;color: #696969;}#sk-container-id-1 label.sk-toggleable__label-arrow:hover:before {color: black;}#sk-container-id-1 div.sk-estimator:hover label.sk-toggleable__label-arrow:before {color: black;}#sk-container-id-1 div.sk-toggleable__content {max-height: 0;max-width: 0;overflow: hidden;text-align: left;background-color: #f0f8ff;}#sk-container-id-1 div.sk-toggleable__content pre {margin: 0.2em;color: black;border-radius: 0.25em;background-color: #f0f8ff;}#sk-container-id-1 input.sk-toggleable__control:checked~div.sk-toggleable__content {max-height: 200px;max-width: 100%;overflow: auto;}#sk-container-id-1 input.sk-toggleable__control:checked~label.sk-toggleable__label-arrow:before {content: \"▾\";}#sk-container-id-1 div.sk-estimator input.sk-toggleable__control:checked~label.sk-toggleable__label {background-color: #d4ebff;}#sk-container-id-1 div.sk-label input.sk-toggleable__control:checked~label.sk-toggleable__label {background-color: #d4ebff;}#sk-container-id-1 input.sk-hidden--visually {border: 0;clip: rect(1px 1px 1px 1px);clip: rect(1px, 1px, 1px, 1px);height: 1px;margin: -1px;overflow: hidden;padding: 0;position: absolute;width: 1px;}#sk-container-id-1 div.sk-estimator {font-family: monospace;background-color: #f0f8ff;border: 1px dotted black;border-radius: 0.25em;box-sizing: border-box;margin-bottom: 0.5em;}#sk-container-id-1 div.sk-estimator:hover {background-color: #d4ebff;}#sk-container-id-1 div.sk-parallel-item::after {content: \"\";width: 100%;border-bottom: 1px solid gray;flex-grow: 1;}#sk-container-id-1 div.sk-label:hover label.sk-toggleable__label {background-color: #d4ebff;}#sk-container-id-1 div.sk-serial::before {content: \"\";position: absolute;border-left: 1px solid gray;box-sizing: border-box;top: 0;bottom: 0;left: 50%;z-index: 0;}#sk-container-id-1 div.sk-serial {display: flex;flex-direction: column;align-items: center;background-color: white;padding-right: 0.2em;padding-left: 0.2em;position: relative;}#sk-container-id-1 div.sk-item {position: relative;z-index: 1;}#sk-container-id-1 div.sk-parallel {display: flex;align-items: stretch;justify-content: center;background-color: white;position: relative;}#sk-container-id-1 div.sk-item::before, #sk-container-id-1 div.sk-parallel-item::before {content: \"\";position: absolute;border-left: 1px solid gray;box-sizing: border-box;top: 0;bottom: 0;left: 50%;z-index: -1;}#sk-container-id-1 div.sk-parallel-item {display: flex;flex-direction: column;z-index: 1;position: relative;background-color: white;}#sk-container-id-1 div.sk-parallel-item:first-child::after {align-self: flex-end;width: 50%;}#sk-container-id-1 div.sk-parallel-item:last-child::after {align-self: flex-start;width: 50%;}#sk-container-id-1 div.sk-parallel-item:only-child::after {width: 0;}#sk-container-id-1 div.sk-dashed-wrapped {border: 1px dashed gray;margin: 0 0.4em 0.5em 0.4em;box-sizing: border-box;padding-bottom: 0.4em;background-color: white;}#sk-container-id-1 div.sk-label label {font-family: monospace;font-weight: bold;display: inline-block;line-height: 1.2em;}#sk-container-id-1 div.sk-label-container {text-align: center;}#sk-container-id-1 div.sk-container {/* jupyter's `normalize.less` sets `[hidden] { display: none; }` but bootstrap.min.css set `[hidden] { display: none !important; }` so we also need the `!important` here to be able to override the default hidden behavior on the sphinx rendered scikit-learn.org. See: https://github.com/scikit-learn/scikit-learn/issues/21755 */display: inline-block !important;position: relative;}#sk-container-id-1 div.sk-text-repr-fallback {display: none;}</style><div id=\"sk-container-id-1\" class=\"sk-top-container\"><div class=\"sk-text-repr-fallback\"><pre>SVC()</pre><b>In a Jupyter environment, please rerun this cell to show the HTML representation or trust the notebook. <br />On GitHub, the HTML representation is unable to render, please try loading this page with nbviewer.org.</b></div><div class=\"sk-container\" hidden><div class=\"sk-item\"><div class=\"sk-estimator sk-toggleable\"><input class=\"sk-toggleable__control sk-hidden--visually\" id=\"sk-estimator-id-1\" type=\"checkbox\" checked><label for=\"sk-estimator-id-1\" class=\"sk-toggleable__label sk-toggleable__label-arrow\">SVC</label><div class=\"sk-toggleable__content\"><pre>SVC()</pre></div></div></div></div></div>"
            ]
          },
          "metadata": {},
          "execution_count": 15
        }
      ]
    },
    {
      "cell_type": "code",
      "source": [
        "def Acuracia(clf,X,y):\n",
        "  resultados=cross_val_predict(clf,X,y,cv=10)\n",
        "  return metrics.accuracy_score(y,resultados)"
      ],
      "metadata": {
        "id": "LzcyxInsrJNp"
      },
      "execution_count": 39,
      "outputs": []
    },
    {
      "cell_type": "code",
      "source": [
        "Acuracia(clf,dataset,classes)"
      ],
      "metadata": {
        "colab": {
          "base_uri": "https://localhost:8080/"
        },
        "id": "AfmkVskhsnc-",
        "outputId": "feb79960-22be-40c9-8ad6-c23d92df45d3"
      },
      "execution_count": 40,
      "outputs": [
        {
          "output_type": "execute_result",
          "data": {
            "text/plain": [
              "0.5582548339117501"
            ]
          },
          "metadata": {},
          "execution_count": 40
        }
      ]
    },
    {
      "cell_type": "code",
      "source": [
        "pip_1=Pipeline([\n",
        "    ('scaler',StandardScaler()),\n",
        "    ('clf',svm.SVC())])\n",
        "pip_1"
      ],
      "metadata": {
        "colab": {
          "base_uri": "https://localhost:8080/",
          "height": 149
        },
        "id": "HgA88Q8ltBSh",
        "outputId": "85864c01-dc3a-434f-c2e7-b7a0330700dd"
      },
      "execution_count": 41,
      "outputs": [
        {
          "output_type": "execute_result",
          "data": {
            "text/plain": [
              "Pipeline(steps=[('scaler', StandardScaler()), ('clf', SVC())])"
            ],
            "text/html": [
              "<style>#sk-container-id-4 {color: black;background-color: white;}#sk-container-id-4 pre{padding: 0;}#sk-container-id-4 div.sk-toggleable {background-color: white;}#sk-container-id-4 label.sk-toggleable__label {cursor: pointer;display: block;width: 100%;margin-bottom: 0;padding: 0.3em;box-sizing: border-box;text-align: center;}#sk-container-id-4 label.sk-toggleable__label-arrow:before {content: \"▸\";float: left;margin-right: 0.25em;color: #696969;}#sk-container-id-4 label.sk-toggleable__label-arrow:hover:before {color: black;}#sk-container-id-4 div.sk-estimator:hover label.sk-toggleable__label-arrow:before {color: black;}#sk-container-id-4 div.sk-toggleable__content {max-height: 0;max-width: 0;overflow: hidden;text-align: left;background-color: #f0f8ff;}#sk-container-id-4 div.sk-toggleable__content pre {margin: 0.2em;color: black;border-radius: 0.25em;background-color: #f0f8ff;}#sk-container-id-4 input.sk-toggleable__control:checked~div.sk-toggleable__content {max-height: 200px;max-width: 100%;overflow: auto;}#sk-container-id-4 input.sk-toggleable__control:checked~label.sk-toggleable__label-arrow:before {content: \"▾\";}#sk-container-id-4 div.sk-estimator input.sk-toggleable__control:checked~label.sk-toggleable__label {background-color: #d4ebff;}#sk-container-id-4 div.sk-label input.sk-toggleable__control:checked~label.sk-toggleable__label {background-color: #d4ebff;}#sk-container-id-4 input.sk-hidden--visually {border: 0;clip: rect(1px 1px 1px 1px);clip: rect(1px, 1px, 1px, 1px);height: 1px;margin: -1px;overflow: hidden;padding: 0;position: absolute;width: 1px;}#sk-container-id-4 div.sk-estimator {font-family: monospace;background-color: #f0f8ff;border: 1px dotted black;border-radius: 0.25em;box-sizing: border-box;margin-bottom: 0.5em;}#sk-container-id-4 div.sk-estimator:hover {background-color: #d4ebff;}#sk-container-id-4 div.sk-parallel-item::after {content: \"\";width: 100%;border-bottom: 1px solid gray;flex-grow: 1;}#sk-container-id-4 div.sk-label:hover label.sk-toggleable__label {background-color: #d4ebff;}#sk-container-id-4 div.sk-serial::before {content: \"\";position: absolute;border-left: 1px solid gray;box-sizing: border-box;top: 0;bottom: 0;left: 50%;z-index: 0;}#sk-container-id-4 div.sk-serial {display: flex;flex-direction: column;align-items: center;background-color: white;padding-right: 0.2em;padding-left: 0.2em;position: relative;}#sk-container-id-4 div.sk-item {position: relative;z-index: 1;}#sk-container-id-4 div.sk-parallel {display: flex;align-items: stretch;justify-content: center;background-color: white;position: relative;}#sk-container-id-4 div.sk-item::before, #sk-container-id-4 div.sk-parallel-item::before {content: \"\";position: absolute;border-left: 1px solid gray;box-sizing: border-box;top: 0;bottom: 0;left: 50%;z-index: -1;}#sk-container-id-4 div.sk-parallel-item {display: flex;flex-direction: column;z-index: 1;position: relative;background-color: white;}#sk-container-id-4 div.sk-parallel-item:first-child::after {align-self: flex-end;width: 50%;}#sk-container-id-4 div.sk-parallel-item:last-child::after {align-self: flex-start;width: 50%;}#sk-container-id-4 div.sk-parallel-item:only-child::after {width: 0;}#sk-container-id-4 div.sk-dashed-wrapped {border: 1px dashed gray;margin: 0 0.4em 0.5em 0.4em;box-sizing: border-box;padding-bottom: 0.4em;background-color: white;}#sk-container-id-4 div.sk-label label {font-family: monospace;font-weight: bold;display: inline-block;line-height: 1.2em;}#sk-container-id-4 div.sk-label-container {text-align: center;}#sk-container-id-4 div.sk-container {/* jupyter's `normalize.less` sets `[hidden] { display: none; }` but bootstrap.min.css set `[hidden] { display: none !important; }` so we also need the `!important` here to be able to override the default hidden behavior on the sphinx rendered scikit-learn.org. See: https://github.com/scikit-learn/scikit-learn/issues/21755 */display: inline-block !important;position: relative;}#sk-container-id-4 div.sk-text-repr-fallback {display: none;}</style><div id=\"sk-container-id-4\" class=\"sk-top-container\"><div class=\"sk-text-repr-fallback\"><pre>Pipeline(steps=[(&#x27;scaler&#x27;, StandardScaler()), (&#x27;clf&#x27;, SVC())])</pre><b>In a Jupyter environment, please rerun this cell to show the HTML representation or trust the notebook. <br />On GitHub, the HTML representation is unable to render, please try loading this page with nbviewer.org.</b></div><div class=\"sk-container\" hidden><div class=\"sk-item sk-dashed-wrapped\"><div class=\"sk-label-container\"><div class=\"sk-label sk-toggleable\"><input class=\"sk-toggleable__control sk-hidden--visually\" id=\"sk-estimator-id-8\" type=\"checkbox\" ><label for=\"sk-estimator-id-8\" class=\"sk-toggleable__label sk-toggleable__label-arrow\">Pipeline</label><div class=\"sk-toggleable__content\"><pre>Pipeline(steps=[(&#x27;scaler&#x27;, StandardScaler()), (&#x27;clf&#x27;, SVC())])</pre></div></div></div><div class=\"sk-serial\"><div class=\"sk-item\"><div class=\"sk-estimator sk-toggleable\"><input class=\"sk-toggleable__control sk-hidden--visually\" id=\"sk-estimator-id-9\" type=\"checkbox\" ><label for=\"sk-estimator-id-9\" class=\"sk-toggleable__label sk-toggleable__label-arrow\">StandardScaler</label><div class=\"sk-toggleable__content\"><pre>StandardScaler()</pre></div></div></div><div class=\"sk-item\"><div class=\"sk-estimator sk-toggleable\"><input class=\"sk-toggleable__control sk-hidden--visually\" id=\"sk-estimator-id-10\" type=\"checkbox\" ><label for=\"sk-estimator-id-10\" class=\"sk-toggleable__label sk-toggleable__label-arrow\">SVC</label><div class=\"sk-toggleable__content\"><pre>SVC()</pre></div></div></div></div></div></div></div>"
            ]
          },
          "metadata": {},
          "execution_count": 41
        }
      ]
    },
    {
      "cell_type": "code",
      "source": [
        "#se usar com o label encoder consegue uma acuracia maior\n",
        "Acuracia(pip_1,dataset,classes)"
      ],
      "metadata": {
        "colab": {
          "base_uri": "https://localhost:8080/"
        },
        "id": "b0MMTyIwutbh",
        "outputId": "5fc152fa-3aa3-42b2-a05b-3c6def9927b1"
      },
      "execution_count": 42,
      "outputs": [
        {
          "output_type": "execute_result",
          "data": {
            "text/plain": [
              "0.7149231531978185"
            ]
          },
          "metadata": {},
          "execution_count": 42
        }
      ]
    },
    {
      "cell_type": "markdown",
      "source": [
        "#kernels\n",
        "\n",
        "algoritmos usados para aplicar forma dos dados\n",
        "\n",
        "\n",
        "\n",
        "\n",
        "kernels aplicam funções matematicas coplexas para transformar os dados\n"
      ],
      "metadata": {
        "id": "qMX3DqBI7Lpx"
      }
    },
    {
      "cell_type": "code",
      "source": [
        "pip_3=Pipeline([\n",
        "    ('scaler',StandardScaler()),\n",
        "    ('clf',svm.SVC(kernel='rbf'))\n",
        "])\n",
        "\n",
        "pip_4=Pipeline([\n",
        "    ('scaler',StandardScaler()),\n",
        "    ('clf',svm.SVC(kernel='poly'))\n",
        "])\n",
        "\n",
        "pip_5=Pipeline([\n",
        "    ('scaler',StandardScaler()),\n",
        "    ('clf',svm.SVC(kernel='linear'))\n",
        "])"
      ],
      "metadata": {
        "id": "-X5yjMvu7LdL"
      },
      "execution_count": 43,
      "outputs": []
    },
    {
      "cell_type": "code",
      "source": [
        "Acuracia(pip_3,dataset,classes)"
      ],
      "metadata": {
        "colab": {
          "base_uri": "https://localhost:8080/"
        },
        "id": "w4eSSVPn0TSN",
        "outputId": "868db5ca-b50e-4484-b678-f543c36ecda1"
      },
      "execution_count": 44,
      "outputs": [
        {
          "output_type": "execute_result",
          "data": {
            "text/plain": [
              "0.7149231531978185"
            ]
          },
          "metadata": {},
          "execution_count": 44
        }
      ]
    },
    {
      "cell_type": "code",
      "source": [
        "Acuracia(pip_4,dataset,classes)"
      ],
      "metadata": {
        "colab": {
          "base_uri": "https://localhost:8080/"
        },
        "id": "WC_y3m2vCqBr",
        "outputId": "5b4eeca8-4424-4562-be3b-67a1b4e12da3"
      },
      "execution_count": 45,
      "outputs": [
        {
          "output_type": "execute_result",
          "data": {
            "text/plain": [
              "0.6683192860684184"
            ]
          },
          "metadata": {},
          "execution_count": 45
        }
      ]
    },
    {
      "cell_type": "code",
      "source": [
        "Acuracia(pip_5,dataset,classes)"
      ],
      "metadata": {
        "colab": {
          "base_uri": "https://localhost:8080/"
        },
        "id": "ITI_Ilw5Cqfy",
        "outputId": "c9c9b573-ff3e-45b9-b402-a07abb18b307"
      },
      "execution_count": 46,
      "outputs": [
        {
          "output_type": "execute_result",
          "data": {
            "text/plain": [
              "0.6236985622211205"
            ]
          },
          "metadata": {},
          "execution_count": 46
        }
      ]
    },
    {
      "cell_type": "markdown",
      "source": [
        "#tunning"
      ],
      "metadata": {
        "id": "vJeReI94JTtP"
      }
    },
    {
      "cell_type": "code",
      "source": [
        "from sklearn.model_selection import GridSearchCV"
      ],
      "metadata": {
        "id": "fDCrPwTqCv29"
      },
      "execution_count": 47,
      "outputs": []
    },
    {
      "cell_type": "code",
      "source": [
        "#lista de valores c\n",
        "lista_C=[0.001,0.01,0.1,10,100]\n",
        "\n",
        "\n",
        "lista_gamma=[0.001,0.01,0.1,1,10,100]"
      ],
      "metadata": {
        "id": "gJVv8k7rdYve"
      },
      "execution_count": 48,
      "outputs": []
    },
    {
      "cell_type": "code",
      "source": [
        "parametros_grid=dict(clf__C=lista_C,clf__gamma=lista_gamma)"
      ],
      "metadata": {
        "id": "0b8-UEmeeLNN"
      },
      "execution_count": 49,
      "outputs": []
    },
    {
      "cell_type": "code",
      "source": [
        "grid=GridSearchCV(pip_3,parametros_grid,cv=10,scoring='accuracy')"
      ],
      "metadata": {
        "id": "llqJM_9QezlQ"
      },
      "execution_count": 51,
      "outputs": []
    },
    {
      "cell_type": "code",
      "source": [
        "grid.fit(dataset,classes)"
      ],
      "metadata": {
        "colab": {
          "base_uri": "https://localhost:8080/",
          "height": 308
        },
        "id": "GLJXvnjMfOyz",
        "outputId": "46a78bb8-395f-4a09-c0de-91459c22db8e"
      },
      "execution_count": 52,
      "outputs": [
        {
          "output_type": "execute_result",
          "data": {
            "text/plain": [
              "GridSearchCV(cv=10,\n",
              "             estimator=Pipeline(steps=[('scaler', StandardScaler()),\n",
              "                                       ('clf', SVC())]),\n",
              "             param_grid={'clf__C': [0.001, 0.01, 0.1, 10, 100],\n",
              "                         'clf__gamma': [0.001, 0.01, 0.1, 1, 10, 100]},\n",
              "             scoring='accuracy')"
            ],
            "text/html": [
              "<style>#sk-container-id-5 {color: black;background-color: white;}#sk-container-id-5 pre{padding: 0;}#sk-container-id-5 div.sk-toggleable {background-color: white;}#sk-container-id-5 label.sk-toggleable__label {cursor: pointer;display: block;width: 100%;margin-bottom: 0;padding: 0.3em;box-sizing: border-box;text-align: center;}#sk-container-id-5 label.sk-toggleable__label-arrow:before {content: \"▸\";float: left;margin-right: 0.25em;color: #696969;}#sk-container-id-5 label.sk-toggleable__label-arrow:hover:before {color: black;}#sk-container-id-5 div.sk-estimator:hover label.sk-toggleable__label-arrow:before {color: black;}#sk-container-id-5 div.sk-toggleable__content {max-height: 0;max-width: 0;overflow: hidden;text-align: left;background-color: #f0f8ff;}#sk-container-id-5 div.sk-toggleable__content pre {margin: 0.2em;color: black;border-radius: 0.25em;background-color: #f0f8ff;}#sk-container-id-5 input.sk-toggleable__control:checked~div.sk-toggleable__content {max-height: 200px;max-width: 100%;overflow: auto;}#sk-container-id-5 input.sk-toggleable__control:checked~label.sk-toggleable__label-arrow:before {content: \"▾\";}#sk-container-id-5 div.sk-estimator input.sk-toggleable__control:checked~label.sk-toggleable__label {background-color: #d4ebff;}#sk-container-id-5 div.sk-label input.sk-toggleable__control:checked~label.sk-toggleable__label {background-color: #d4ebff;}#sk-container-id-5 input.sk-hidden--visually {border: 0;clip: rect(1px 1px 1px 1px);clip: rect(1px, 1px, 1px, 1px);height: 1px;margin: -1px;overflow: hidden;padding: 0;position: absolute;width: 1px;}#sk-container-id-5 div.sk-estimator {font-family: monospace;background-color: #f0f8ff;border: 1px dotted black;border-radius: 0.25em;box-sizing: border-box;margin-bottom: 0.5em;}#sk-container-id-5 div.sk-estimator:hover {background-color: #d4ebff;}#sk-container-id-5 div.sk-parallel-item::after {content: \"\";width: 100%;border-bottom: 1px solid gray;flex-grow: 1;}#sk-container-id-5 div.sk-label:hover label.sk-toggleable__label {background-color: #d4ebff;}#sk-container-id-5 div.sk-serial::before {content: \"\";position: absolute;border-left: 1px solid gray;box-sizing: border-box;top: 0;bottom: 0;left: 50%;z-index: 0;}#sk-container-id-5 div.sk-serial {display: flex;flex-direction: column;align-items: center;background-color: white;padding-right: 0.2em;padding-left: 0.2em;position: relative;}#sk-container-id-5 div.sk-item {position: relative;z-index: 1;}#sk-container-id-5 div.sk-parallel {display: flex;align-items: stretch;justify-content: center;background-color: white;position: relative;}#sk-container-id-5 div.sk-item::before, #sk-container-id-5 div.sk-parallel-item::before {content: \"\";position: absolute;border-left: 1px solid gray;box-sizing: border-box;top: 0;bottom: 0;left: 50%;z-index: -1;}#sk-container-id-5 div.sk-parallel-item {display: flex;flex-direction: column;z-index: 1;position: relative;background-color: white;}#sk-container-id-5 div.sk-parallel-item:first-child::after {align-self: flex-end;width: 50%;}#sk-container-id-5 div.sk-parallel-item:last-child::after {align-self: flex-start;width: 50%;}#sk-container-id-5 div.sk-parallel-item:only-child::after {width: 0;}#sk-container-id-5 div.sk-dashed-wrapped {border: 1px dashed gray;margin: 0 0.4em 0.5em 0.4em;box-sizing: border-box;padding-bottom: 0.4em;background-color: white;}#sk-container-id-5 div.sk-label label {font-family: monospace;font-weight: bold;display: inline-block;line-height: 1.2em;}#sk-container-id-5 div.sk-label-container {text-align: center;}#sk-container-id-5 div.sk-container {/* jupyter's `normalize.less` sets `[hidden] { display: none; }` but bootstrap.min.css set `[hidden] { display: none !important; }` so we also need the `!important` here to be able to override the default hidden behavior on the sphinx rendered scikit-learn.org. See: https://github.com/scikit-learn/scikit-learn/issues/21755 */display: inline-block !important;position: relative;}#sk-container-id-5 div.sk-text-repr-fallback {display: none;}</style><div id=\"sk-container-id-5\" class=\"sk-top-container\"><div class=\"sk-text-repr-fallback\"><pre>GridSearchCV(cv=10,\n",
              "             estimator=Pipeline(steps=[(&#x27;scaler&#x27;, StandardScaler()),\n",
              "                                       (&#x27;clf&#x27;, SVC())]),\n",
              "             param_grid={&#x27;clf__C&#x27;: [0.001, 0.01, 0.1, 10, 100],\n",
              "                         &#x27;clf__gamma&#x27;: [0.001, 0.01, 0.1, 1, 10, 100]},\n",
              "             scoring=&#x27;accuracy&#x27;)</pre><b>In a Jupyter environment, please rerun this cell to show the HTML representation or trust the notebook. <br />On GitHub, the HTML representation is unable to render, please try loading this page with nbviewer.org.</b></div><div class=\"sk-container\" hidden><div class=\"sk-item sk-dashed-wrapped\"><div class=\"sk-label-container\"><div class=\"sk-label sk-toggleable\"><input class=\"sk-toggleable__control sk-hidden--visually\" id=\"sk-estimator-id-11\" type=\"checkbox\" ><label for=\"sk-estimator-id-11\" class=\"sk-toggleable__label sk-toggleable__label-arrow\">GridSearchCV</label><div class=\"sk-toggleable__content\"><pre>GridSearchCV(cv=10,\n",
              "             estimator=Pipeline(steps=[(&#x27;scaler&#x27;, StandardScaler()),\n",
              "                                       (&#x27;clf&#x27;, SVC())]),\n",
              "             param_grid={&#x27;clf__C&#x27;: [0.001, 0.01, 0.1, 10, 100],\n",
              "                         &#x27;clf__gamma&#x27;: [0.001, 0.01, 0.1, 1, 10, 100]},\n",
              "             scoring=&#x27;accuracy&#x27;)</pre></div></div></div><div class=\"sk-parallel\"><div class=\"sk-parallel-item\"><div class=\"sk-item\"><div class=\"sk-label-container\"><div class=\"sk-label sk-toggleable\"><input class=\"sk-toggleable__control sk-hidden--visually\" id=\"sk-estimator-id-12\" type=\"checkbox\" ><label for=\"sk-estimator-id-12\" class=\"sk-toggleable__label sk-toggleable__label-arrow\">estimator: Pipeline</label><div class=\"sk-toggleable__content\"><pre>Pipeline(steps=[(&#x27;scaler&#x27;, StandardScaler()), (&#x27;clf&#x27;, SVC())])</pre></div></div></div><div class=\"sk-serial\"><div class=\"sk-item\"><div class=\"sk-serial\"><div class=\"sk-item\"><div class=\"sk-estimator sk-toggleable\"><input class=\"sk-toggleable__control sk-hidden--visually\" id=\"sk-estimator-id-13\" type=\"checkbox\" ><label for=\"sk-estimator-id-13\" class=\"sk-toggleable__label sk-toggleable__label-arrow\">StandardScaler</label><div class=\"sk-toggleable__content\"><pre>StandardScaler()</pre></div></div></div><div class=\"sk-item\"><div class=\"sk-estimator sk-toggleable\"><input class=\"sk-toggleable__control sk-hidden--visually\" id=\"sk-estimator-id-14\" type=\"checkbox\" ><label for=\"sk-estimator-id-14\" class=\"sk-toggleable__label sk-toggleable__label-arrow\">SVC</label><div class=\"sk-toggleable__content\"><pre>SVC()</pre></div></div></div></div></div></div></div></div></div></div></div></div>"
            ]
          },
          "metadata": {},
          "execution_count": 52
        }
      ]
    },
    {
      "cell_type": "code",
      "source": [
        "print(grid.cv_results_)"
      ],
      "metadata": {
        "colab": {
          "base_uri": "https://localhost:8080/"
        },
        "id": "ePLyBvI0fUPr",
        "outputId": "681c944c-3559-455c-9093-dd65e59f4c39"
      },
      "execution_count": 56,
      "outputs": [
        {
          "output_type": "stream",
          "name": "stdout",
          "text": [
            "{'mean_fit_time': array([0.32597711, 0.35464485, 0.27295234, 0.28125739, 0.39729388,\n",
            "       0.30652747, 0.23932784, 0.15697384, 0.18992519, 0.2115905 ,\n",
            "       0.18437645, 0.18777156, 0.15740874, 0.14639733, 0.16563749,\n",
            "       0.26207724, 0.19211891, 0.19418149, 0.13632627, 0.13532116,\n",
            "       0.23906667, 0.23727627, 0.19697189, 0.20806274, 0.14922264,\n",
            "       0.22557766, 0.59015677, 0.18652344, 0.19819703, 0.23628707]), 'std_fit_time': array([0.10080888, 0.08530451, 0.01097523, 0.02566895, 0.11413719,\n",
            "       0.00944452, 0.04263607, 0.00625505, 0.04770191, 0.0560003 ,\n",
            "       0.01062775, 0.00404961, 0.00454531, 0.00421383, 0.04092767,\n",
            "       0.19590736, 0.00411799, 0.00322247, 0.00218284, 0.005453  ,\n",
            "       0.05392974, 0.06500237, 0.00646338, 0.00839577, 0.0073057 ,\n",
            "       0.01007167, 0.23946256, 0.00399607, 0.00557764, 0.05816426]), 'mean_score_time': array([0.05441437, 0.06779764, 0.05067205, 0.04873037, 0.07127194,\n",
            "       0.05775335, 0.04072964, 0.02509866, 0.03377912, 0.03672862,\n",
            "       0.02653761, 0.03035734, 0.02509902, 0.02507064, 0.02861388,\n",
            "       0.03430843, 0.02654161, 0.02946732, 0.02144995, 0.01813555,\n",
            "       0.0226953 , 0.03175433, 0.02687614, 0.0288296 , 0.01895473,\n",
            "       0.01792881, 0.03105175, 0.02628975, 0.02870276, 0.03438423]), 'std_score_time': array([0.01846198, 0.02345319, 0.00663991, 0.00342193, 0.03194763,\n",
            "       0.00671425, 0.01056152, 0.00034142, 0.01046537, 0.01094757,\n",
            "       0.00080859, 0.00318167, 0.00037215, 0.00237544, 0.00927061,\n",
            "       0.01117177, 0.00081358, 0.00247487, 0.00243918, 0.00092771,\n",
            "       0.00679437, 0.01052035, 0.00108598, 0.00073025, 0.00037216,\n",
            "       0.00372671, 0.04163408, 0.00326972, 0.00423513, 0.01005978]), 'param_clf__C': masked_array(data=[0.001, 0.001, 0.001, 0.001, 0.001, 0.001, 0.01, 0.01,\n",
            "                   0.01, 0.01, 0.01, 0.01, 0.1, 0.1, 0.1, 0.1, 0.1, 0.1,\n",
            "                   10, 10, 10, 10, 10, 10, 100, 100, 100, 100, 100, 100],\n",
            "             mask=[False, False, False, False, False, False, False, False,\n",
            "                   False, False, False, False, False, False, False, False,\n",
            "                   False, False, False, False, False, False, False, False,\n",
            "                   False, False, False, False, False, False],\n",
            "       fill_value='?',\n",
            "            dtype=object), 'param_clf__gamma': masked_array(data=[0.001, 0.01, 0.1, 1, 10, 100, 0.001, 0.01, 0.1, 1, 10,\n",
            "                   100, 0.001, 0.01, 0.1, 1, 10, 100, 0.001, 0.01, 0.1, 1,\n",
            "                   10, 100, 0.001, 0.01, 0.1, 1, 10, 100],\n",
            "             mask=[False, False, False, False, False, False, False, False,\n",
            "                   False, False, False, False, False, False, False, False,\n",
            "                   False, False, False, False, False, False, False, False,\n",
            "                   False, False, False, False, False, False],\n",
            "       fill_value='?',\n",
            "            dtype=object), 'params': [{'clf__C': 0.001, 'clf__gamma': 0.001}, {'clf__C': 0.001, 'clf__gamma': 0.01}, {'clf__C': 0.001, 'clf__gamma': 0.1}, {'clf__C': 0.001, 'clf__gamma': 1}, {'clf__C': 0.001, 'clf__gamma': 10}, {'clf__C': 0.001, 'clf__gamma': 100}, {'clf__C': 0.01, 'clf__gamma': 0.001}, {'clf__C': 0.01, 'clf__gamma': 0.01}, {'clf__C': 0.01, 'clf__gamma': 0.1}, {'clf__C': 0.01, 'clf__gamma': 1}, {'clf__C': 0.01, 'clf__gamma': 10}, {'clf__C': 0.01, 'clf__gamma': 100}, {'clf__C': 0.1, 'clf__gamma': 0.001}, {'clf__C': 0.1, 'clf__gamma': 0.01}, {'clf__C': 0.1, 'clf__gamma': 0.1}, {'clf__C': 0.1, 'clf__gamma': 1}, {'clf__C': 0.1, 'clf__gamma': 10}, {'clf__C': 0.1, 'clf__gamma': 100}, {'clf__C': 10, 'clf__gamma': 0.001}, {'clf__C': 10, 'clf__gamma': 0.01}, {'clf__C': 10, 'clf__gamma': 0.1}, {'clf__C': 10, 'clf__gamma': 1}, {'clf__C': 10, 'clf__gamma': 10}, {'clf__C': 10, 'clf__gamma': 100}, {'clf__C': 100, 'clf__gamma': 0.001}, {'clf__C': 100, 'clf__gamma': 0.01}, {'clf__C': 100, 'clf__gamma': 0.1}, {'clf__C': 100, 'clf__gamma': 1}, {'clf__C': 100, 'clf__gamma': 10}, {'clf__C': 100, 'clf__gamma': 100}], 'split0_test_score': array([0.5049505 , 0.5049505 , 0.5049505 , 0.5049505 , 0.5049505 ,\n",
            "       0.5049505 , 0.5049505 , 0.5049505 , 0.5049505 , 0.5049505 ,\n",
            "       0.5049505 , 0.5049505 , 0.5049505 , 0.68811881, 0.76237624,\n",
            "       0.5049505 , 0.5049505 , 0.5049505 , 0.72772277, 0.82673267,\n",
            "       0.82178218, 0.75742574, 0.5049505 , 0.5       , 0.81188119,\n",
            "       0.82178218, 0.7970297 , 0.75742574, 0.5049505 , 0.5       ]), 'split1_test_score': array([0.5049505 , 0.5049505 , 0.5049505 , 0.5049505 , 0.5049505 ,\n",
            "       0.5049505 , 0.5049505 , 0.5049505 , 0.5049505 , 0.5049505 ,\n",
            "       0.5049505 , 0.5049505 , 0.5049505 , 0.63861386, 0.67326733,\n",
            "       0.5049505 , 0.5049505 , 0.5049505 , 0.65841584, 0.68811881,\n",
            "       0.74752475, 0.68316832, 0.51980198, 0.51485149, 0.68316832,\n",
            "       0.72772277, 0.70792079, 0.68316832, 0.51980198, 0.51485149]), 'split2_test_score': array([0.5049505 , 0.5049505 , 0.5049505 , 0.5049505 , 0.5049505 ,\n",
            "       0.5049505 , 0.5049505 , 0.5049505 , 0.5049505 , 0.5049505 ,\n",
            "       0.5049505 , 0.5049505 , 0.5049505 , 0.66336634, 0.73267327,\n",
            "       0.5049505 , 0.5049505 , 0.5049505 , 0.66336634, 0.74752475,\n",
            "       0.6980198 , 0.64356436, 0.50990099, 0.5049505 , 0.71287129,\n",
            "       0.75742574, 0.62871287, 0.64356436, 0.50990099, 0.5049505 ]), 'split3_test_score': array([0.5049505 , 0.5049505 , 0.5049505 , 0.5049505 , 0.5049505 ,\n",
            "       0.5049505 , 0.5049505 , 0.5049505 , 0.5049505 , 0.5049505 ,\n",
            "       0.5049505 , 0.5049505 , 0.5049505 , 0.63366337, 0.64356436,\n",
            "       0.5049505 , 0.5049505 , 0.5049505 , 0.64851485, 0.68811881,\n",
            "       0.67821782, 0.54950495, 0.5049505 , 0.5049505 , 0.67326733,\n",
            "       0.6980198 , 0.61386139, 0.54950495, 0.5049505 , 0.5049505 ]), 'split4_test_score': array([0.5049505 , 0.5049505 , 0.5049505 , 0.5049505 , 0.5049505 ,\n",
            "       0.5049505 , 0.5049505 , 0.5049505 , 0.5049505 , 0.5049505 ,\n",
            "       0.5049505 , 0.5049505 , 0.5049505 , 0.6039604 , 0.64356436,\n",
            "       0.5049505 , 0.5049505 , 0.5049505 , 0.61881188, 0.68811881,\n",
            "       0.68316832, 0.64851485, 0.5049505 , 0.5049505 , 0.65346535,\n",
            "       0.65346535, 0.65841584, 0.64851485, 0.5049505 , 0.5049505 ]), 'split5_test_score': array([0.5049505 , 0.5049505 , 0.5049505 , 0.5049505 , 0.5049505 ,\n",
            "       0.5049505 , 0.5049505 , 0.5049505 , 0.5049505 , 0.5049505 ,\n",
            "       0.5049505 , 0.5049505 , 0.5049505 , 0.37623762, 0.43069307,\n",
            "       0.5049505 , 0.5049505 , 0.5049505 , 0.3960396 , 0.66336634,\n",
            "       0.57920792, 0.45049505, 0.5049505 , 0.5049505 , 0.45049505,\n",
            "       0.69306931, 0.61881188, 0.45049505, 0.5049505 , 0.5049505 ]), 'split6_test_score': array([0.5049505 , 0.5049505 , 0.5049505 , 0.5049505 , 0.5049505 ,\n",
            "       0.5049505 , 0.5049505 , 0.5049505 , 0.5049505 , 0.5049505 ,\n",
            "       0.5049505 , 0.5049505 , 0.5049505 , 0.68811881, 0.6980198 ,\n",
            "       0.5049505 , 0.5049505 , 0.5049505 , 0.70792079, 0.72277228,\n",
            "       0.72277228, 0.66831683, 0.50990099, 0.50990099, 0.71287129,\n",
            "       0.72277228, 0.7029703 , 0.66831683, 0.50990099, 0.50990099]), 'split7_test_score': array([0.50746269, 0.50746269, 0.50746269, 0.50746269, 0.50746269,\n",
            "       0.50746269, 0.50746269, 0.50746269, 0.50746269, 0.50746269,\n",
            "       0.50746269, 0.50746269, 0.50746269, 0.59701493, 0.62686567,\n",
            "       0.50746269, 0.50746269, 0.50746269, 0.60199005, 0.63681592,\n",
            "       0.69651741, 0.68159204, 0.51243781, 0.50746269, 0.61691542,\n",
            "       0.68656716, 0.66666667, 0.68159204, 0.51243781, 0.50746269]), 'split8_test_score': array([0.50746269, 0.50746269, 0.50746269, 0.50746269, 0.50746269,\n",
            "       0.50746269, 0.50746269, 0.50746269, 0.50746269, 0.50746269,\n",
            "       0.50746269, 0.50746269, 0.50746269, 0.74129353, 0.76616915,\n",
            "       0.50746269, 0.50746269, 0.50746269, 0.74626866, 0.76119403,\n",
            "       0.68656716, 0.70149254, 0.51741294, 0.50746269, 0.76119403,\n",
            "       0.76616915, 0.69651741, 0.70149254, 0.51741294, 0.50746269]), 'split9_test_score': array([0.50746269, 0.50746269, 0.50746269, 0.50746269, 0.50746269,\n",
            "       0.50746269, 0.50746269, 0.50746269, 0.50746269, 0.50746269,\n",
            "       0.50746269, 0.50746269, 0.50746269, 0.61691542, 0.67661692,\n",
            "       0.50746269, 0.50746269, 0.50746269, 0.62189055, 0.68159204,\n",
            "       0.69154229, 0.66169154, 0.49751244, 0.50248756, 0.66666667,\n",
            "       0.68159204, 0.66169154, 0.66169154, 0.49751244, 0.50248756]), 'mean_test_score': array([0.50570415, 0.50570415, 0.50570415, 0.50570415, 0.50570415,\n",
            "       0.50570415, 0.50570415, 0.50570415, 0.50570415, 0.50570415,\n",
            "       0.50570415, 0.50570415, 0.50570415, 0.62473031, 0.66538102,\n",
            "       0.50570415, 0.50570415, 0.50570415, 0.63909413, 0.71043545,\n",
            "       0.70053199, 0.64457662, 0.50867691, 0.50619674, 0.67427959,\n",
            "       0.72085858, 0.67525984, 0.64457662, 0.50867691, 0.50619674]), 'std_test_score': array([0.00115123, 0.00115123, 0.00115123, 0.00115123, 0.00115123,\n",
            "       0.00115123, 0.00115123, 0.00115123, 0.00115123, 0.00115123,\n",
            "       0.00115123, 0.00115123, 0.00115123, 0.09295037, 0.09102862,\n",
            "       0.00115123, 0.00115123, 0.00115123, 0.09289203, 0.05252682,\n",
            "       0.05763833, 0.08149426, 0.0063041 , 0.00387558, 0.09132817,\n",
            "       0.04709567, 0.05174825, 0.08149426, 0.0063041 , 0.00387558]), 'rank_test_score': array([15, 15, 15, 15, 15, 15, 15, 15, 15, 15, 15, 15, 15, 10,  6, 15, 15,\n",
            "       15,  9,  2,  3,  7, 11, 13,  5,  1,  4,  7, 11, 13], dtype=int32)}\n"
          ]
        }
      ]
    },
    {
      "cell_type": "code",
      "source": [
        "grid.best_params_"
      ],
      "metadata": {
        "colab": {
          "base_uri": "https://localhost:8080/"
        },
        "id": "zEbssVJmgz1a",
        "outputId": "933841ec-76a0-4c83-efd3-8416882d81b0"
      },
      "execution_count": 57,
      "outputs": [
        {
          "output_type": "execute_result",
          "data": {
            "text/plain": [
              "{'clf__C': 100, 'clf__gamma': 0.01}"
            ]
          },
          "metadata": {},
          "execution_count": 57
        }
      ]
    },
    {
      "cell_type": "code",
      "source": [
        "grid.best_score_"
      ],
      "metadata": {
        "colab": {
          "base_uri": "https://localhost:8080/"
        },
        "id": "dypUIjUehdYa",
        "outputId": "ebd40f07-2781-4460-ecc2-1a28b4f1533d"
      },
      "execution_count": 58,
      "outputs": [
        {
          "output_type": "execute_result",
          "data": {
            "text/plain": [
              "0.720858578395153"
            ]
          },
          "metadata": {},
          "execution_count": 58
        }
      ]
    },
    {
      "cell_type": "code",
      "source": [],
      "metadata": {
        "id": "qxwgUasIhghw"
      },
      "execution_count": null,
      "outputs": []
    }
  ]
}